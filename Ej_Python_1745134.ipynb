{
 "cells": [
  {
   "cell_type": "code",
   "execution_count": 7,
   "metadata": {},
   "outputs": [
    {
     "name": "stdout",
     "output_type": "stream",
     "text": [
      "Mi nombre es Nathanael Ramírez y mi matrícula es: 1745134\n"
     ]
    }
   ],
   "source": [
    "#Ejercicios de Python Básicos\n",
    "#Ejercicio 1: Realiza una variable con tu matrícula y realiza una secuencia de imprimir con tu nombre\n",
    "#y tu matrícula concatenados.\n",
    "matricula = 1745134 #Asignamos el valor de mi matrícula\n",
    "print (\"Mi nombre es Nathanael Ramírez y mi matrícula es:\", matricula) #Imprimimos"
   ]
  },
  {
   "cell_type": "code",
   "execution_count": 30,
   "metadata": {},
   "outputs": [
    {
     "name": "stdout",
     "output_type": "stream",
     "text": [
      "Introduce un número:41\n",
      "Introduce otro número:3\n",
      "Ingrese el tipo de operación de desee realizar (suma,res,mult,div,exp):exp\n",
      "El resultado es: 68921\n"
     ]
    }
   ],
   "source": [
    "#Ejercicio 2: Pidiendo el input del usuario pide dos números y crea una pequeña calculadora con los\n",
    "#operadores básicos de suma, resta, multiplicación, división y exponente.\n",
    "num1 = int(input(\"Introduce un número:\"))\n",
    "num2 = int(input(\"Introduce otro número:\"))\n",
    "operador = str(input(\"Ingrese el tipo de operación de desee realizar (suma,res,mult,div,exp):\"))#guardamos el tipo de operación que realizaremos\n",
    "resultado = 0\n",
    "if operador == \"suma\":\n",
    "    resultado = num1 + num2\n",
    "elif operador == \"res\":\n",
    "        resultado = num1 - num2\n",
    "elif operador == \"mult\":\n",
    "            resultado = num1 * num2\n",
    "elif operador == \"div\":\n",
    "                resultado = num1 / num2\n",
    "elif operador == \"exp\":\n",
    "                    resultado = num1 ** num2\n",
    "else: \n",
    "    print(\"Favor de escribir el operador correctamente.\")\n",
    "print(\"El resultado es:\", resultado)"
   ]
  },
  {
   "cell_type": "code",
   "execution_count": 3,
   "metadata": {},
   "outputs": [
    {
     "name": "stdout",
     "output_type": "stream",
     "text": [
      "Ingrese un número múltiplo de tres:3\n",
      "Ingrese un número múltiplo de tres:6\n",
      "Ingrese un número múltiplo de tres:9\n",
      "Ingrese un número múltiplo de tres:122\n",
      "Verifique que su número es múltiplo de 3.\n",
      "Ingrese un número múltiplo de tres:12\n",
      "Ingrese un número múltiplo de tres:15\n",
      "Ingrese un número múltiplo de tres:18\n",
      "Ingrese un número múltiplo de tres:21\n",
      "Ingrese un número múltiplo de tres:24\n",
      "Ingrese un número múltiplo de tres:27\n",
      "Ingrese un número múltiplo de tres:30\n",
      "La suma total del arreglo es: 165\n"
     ]
    }
   ],
   "source": [
    "#Ejercicio 3: Con loop while o for, realiza una lista de 10 números múltiplos de 3, y después \n",
    "#realiza una función de loop que sume todos los números dentro del arreglo.\n",
    "total = [] #creamos el arreglo\n",
    "i = 0\n",
    "while i < 10:\n",
    "    trinum = int(input(\"Ingrese un número múltiplo de tres:\")) #obtenemos los números\n",
    "    prueba = trinum / 3\n",
    "    verificacion = (prueba).is_integer() #validamos que el número sea múltiplo del 3, si la división entre 3 regresa un entero\n",
    "    if verificacion == 1:\n",
    "        total.append(trinum) #añadimos el número al arreglo\n",
    "        i = i + 1   \n",
    "    else:\n",
    "        print(\"Verifique que su número es múltiplo de 3.\") #en caso de no ser múltiplo le pedimos otro número\n",
    "i=0\n",
    "sumtotal = 0\n",
    "while i < 10:\n",
    "    sumtotal = total[i] + sumtotal #sumamos los números del arreglo\n",
    "    i = i + 1\n",
    "print(\"La suma total del arreglo es:\",sumtotal)"
   ]
  },
  {
   "cell_type": "code",
   "execution_count": 7,
   "metadata": {},
   "outputs": [
    {
     "name": "stdout",
     "output_type": "stream",
     "text": [
      "Ingrese un número: 97\n",
      "Ingrese el tipo de prueba que desea realizar sobre el número (Primo o Par): Primo\n",
      "97 es primo.\n"
     ]
    }
   ],
   "source": [
    "#Ejercicio 4: con una función de if else, revisar si un número es par o es impar.\n",
    "#con una función de if else, revisar si un número es primo o no\n",
    "prueba = int(input(\"Ingrese un número: \"))\n",
    "PoP = str(input(\"Ingrese el tipo de prueba que desea realizar sobre el número (Primo o Par): \"))\n",
    "if PoP == \"Primo\": \n",
    "    if prueba > 1:\n",
    "        for i in range(2, prueba): #https://www.geeksforgeeks.org/python-program-to-check-whether-a-number-is-prime-or-not/\n",
    "            if (prueba % i) == 0: \n",
    "                print(prueba, \"no es primo.\")\n",
    "                break\n",
    "        else:\n",
    "            print(prueba,\"es primo.\")\n",
    "    else:\n",
    "        print(prueba,\"no es primo.\")\n",
    "else:\n",
    "    if (prueba % 2) == 0: \n",
    "        print(prueba, \"es par.\")\n",
    "    else:\n",
    "        print(prueba,\"es impar.\")"
   ]
  },
  {
   "cell_type": "code",
   "execution_count": null,
   "metadata": {},
   "outputs": [],
   "source": [
    "#Ejercicio 5: Utilizando diferentes clases en python, crea una calculadora con los operadores básicos\n",
    "#de suma, resta, multiplicación, división y exponente\n"
   ]
  },
  {
   "cell_type": "code",
   "execution_count": 25,
   "metadata": {},
   "outputs": [
    {
     "name": "stdout",
     "output_type": "stream",
     "text": [
      "1.19 es tipo:  <class 'float'>\n",
      "5 es tipo:  <class 'int'>\n",
      "False es tipo:  <class 'bool'>\n",
      "(7+3j) es tipo:  <class 'complex'> \n",
      "\n",
      "El primer valor de la tupla es: 1 y el último es: 3 \n",
      "\n",
      "(1, 2, 3, 'fcfm', 'fime', 'fcq')\n"
     ]
    },
    {
     "data": {
      "text/plain": [
       "False"
      ]
     },
     "execution_count": 25,
     "metadata": {},
     "output_type": "execute_result"
    }
   ],
   "source": [
    "#Ejercicios con estructuras básicas de python\n",
    "#Tuplas\n",
    "#Crear una variable flotante, integer, boleana y compleja e imprimir el tipo de variable que es\n",
    "vflo = float(1.19)\n",
    "print(vflo, \"es tipo: \",type(vflo))\n",
    "vint = int(5)\n",
    "print(vint, \"es tipo: \",type(vint))\n",
    "vbol = bool(0)\n",
    "print(vbol, \"es tipo: \",type(vbol))\n",
    "vcom = complex(7,3) #https://www.geeksforgeeks.org/complex-numbers-in-python-set-1-introduction/\n",
    "print(vcom, \"es tipo: \",type(vcom),\"\\n\")\n",
    "\n",
    "#Crear una tupla con valores enteros imprimir el primer y último valor\n",
    "ejtupla = (1,2,3)\n",
    "print(\"El primer valor de la tupla es:\",ejtupla[0], \"y el último es:\",ejtupla[2],\"\\n\")\n",
    "\n",
    "#Añadir 3 valores de string a la tupla\n",
    "aux = list(ejtupla)\n",
    "aux.append(\"fcfm\")\n",
    "aux.append(\"fime\")\n",
    "aux.append(\"fcq\")\n",
    "ejtupla = tuple(aux)\n",
    "print(ejtupla)\n",
    "\n",
    "#Verificar si una variable existe dentro de la tupla\n",
    "lisvar = []\n",
    "lisvar.extend((vflo,vint,vbol,vcom)) #https://stackoverflow.com/questions/14860460/append-several-variables-to-a-list-in-python\n",
    "any(t in ejtupla for t in lisvar) #https://stackoverflow.com/questions/41188243/check-if-tuple-contains-at-least-one-of-multiple-values\n"
   ]
  },
  {
   "cell_type": "code",
   "execution_count": 11,
   "metadata": {},
   "outputs": [
    {
     "name": "stdout",
     "output_type": "stream",
     "text": [
      "Lista:\n",
      " [30, 52, 86, 68, 41, 64, 66, 93, 55, 54, 70, 43, 94, 1, 75, 29, 76, 75, 2, 74, 81, 90, 69, 15, 75, 12, 4, 13, 27, 99, 93, 2, 37, 98, 58, 22, 33, 96, 51, 86] \n",
      "\n",
      "Lista Par:\n",
      " [30, 52, 86, 68, 64, 66, 54, 70, 94, 76, 2, 74, 90, 12, 4, 2, 98, 58, 22, 96, 86] \n",
      "\n",
      "Lista Impar:\n",
      " [41, 93, 55, 43, 1, 75, 29, 75, 81, 69, 15, 75, 13, 27, 99, 93, 37, 33, 51] \n",
      "\n",
      "La longitud de la lista de los pares es: 21 y de los impares: 19\n",
      "\n",
      "Descendente:\n",
      " [98, 96, 94, 90, 86, 86, 76, 74, 70, 68, 66, 64, 58, 54, 52, 30, 22, 12, 4, 2, 2] \n",
      "Ascendente:\n",
      " [1, 13, 15, 27, 29, 33, 37, 41, 43, 51, 55, 69, 75, 75, 75, 81, 93, 93, 99]\n",
      "\n",
      "4 Funciones:\n",
      " ['a', 'l', 'o', 'h', 3, 86, 51, 96, 33, 22, 58, 98, 37, 2, 93, 99, 27, 13, 4, 12, 75, 15, 69, 90, 81, 74, 2, 75, 76, 29, 75, 1, 94, 43, 70, 54, 55, 93, 66, 64, 41, 68, 86, 52, 30]\n"
     ]
    }
   ],
   "source": [
    "#Listas\n",
    "#Crear una lista con 40 elementos aleatorios enteros\n",
    "import random as r\n",
    "lisrand = []\n",
    "i=0\n",
    "while i < 40:\n",
    "    num  = r.randint(0,100)\n",
    "    lisrand.append((num))\n",
    "    i = i+1\n",
    "print(\"Lista:\\n\",lisrand,\"\\n\")\n",
    "\n",
    "#Con una función (def) crear dos listas nuevas a partir de la lista creada por números aleatorios,\n",
    "#en la cuál en una esten los elementos pares, y en la otra los elementos impares.\n",
    "lispar = []\n",
    "lisimpar = []\n",
    "def ParImpar(lisrand):\n",
    "    i=0\n",
    "    while i < 40:\n",
    "        if ((lisrand[i]%2) == 0):\n",
    "            aux = lisrand[i]\n",
    "            lispar.append((aux))\n",
    "            i = i+1\n",
    "        else:\n",
    "            aux = lisrand[i]\n",
    "            lisimpar.append((aux))\n",
    "            i = i+1\n",
    "    print(\"Lista Par:\\n\",lispar,\"\\n\")\n",
    "    print(\"Lista Impar:\\n\",lisimpar,\"\\n\")\n",
    "ParImpar(lisrand)\n",
    "\n",
    "#Crear dos variables con la longitud de ambas listas nuevas e imprimir las variables\n",
    "longPar = len(lispar)\n",
    "longImp = len(lisimpar)\n",
    "print(\"La longitud de la lista de los pares es:\",longPar,\"y de los impares:\",longImp)\n",
    "\n",
    "#Ordenar los elementos de la lista par de mayor a menor, y los de la lista impar de menor a mayor.\n",
    "ascpar = sorted(lispar,reverse=True)\n",
    "descimpar = sorted(lisimpar)\n",
    "print(\"\\nDescendente:\\n\",ascpar,\"\\nAscendente:\\n\",descimpar)\n",
    "\n",
    "#Utilizar al menos cuatro de las funciones de listas en python en la lista original de 40 elementos.\n",
    "lisrandnew = lisrand\n",
    "lisrandnew.append(3)\n",
    "lisrandnew.extend(\"hola\")\n",
    "lisrandnew.reverse()\n",
    "print(\"\\n4 Funciones:\\n\",lisrandnew)\n"
   ]
  },
  {
   "cell_type": "code",
   "execution_count": 17,
   "metadata": {},
   "outputs": [
    {
     "name": "stdout",
     "output_type": "stream",
     "text": [
      "Diccionario:\n",
      " {'Nathan': 22, 'Roberto': 43, 'Jacqueline': 20, 'Tharek': 20, 'Ivan': 20, 'Paola': 12}\n",
      "\n",
      "Valores de menor a mayor:\n",
      " [12, 20, 20, 20, 22, 43] \n",
      "\n",
      "Nombres:\n",
      "Nathan\n",
      "Roberto\n",
      "Jacqueline\n",
      "Tharek\n",
      "Ivan\n",
      "Paola\n",
      "\n",
      "Nuevo Diccionario:\n",
      " {'Nathan': 22, 'Roberto': 43, 'Jacqueline': 20, 'Tharek': 20, 'Ivan': 20, 'Paola': 12, 'Daniela': '27', 'José': '34'}\n"
     ]
    }
   ],
   "source": [
    "#Diccionarios\n",
    "#Crear un diccionario de 6 personas que conozcas con su primer nombre y su edad\n",
    "dicc1 = {'Nathan':22,'Roberto':43,'Jacqueline':20,'Tharek':20,'Ivan':20,'Paola':12}\n",
    "print(\"Diccionario:\\n\",dicc1)\n",
    "\n",
    "#Crear una lista con los valores de la edad y reacomodar la lista de menor a mayor valor.\n",
    "lisdicc = dicc1.values()\n",
    "lisdicc = sorted(lisdicc)\n",
    "print(\"\\nValores de menor a mayor:\\n\",lisdicc,\"\\n\")\n",
    "\n",
    "#Usando el diccionario y un loop, imprimir solo los nombres.\n",
    "i = 1\n",
    "print(\"Nombres:\")\n",
    "for i in dicc1:\n",
    "   print(i)\n",
    "\n",
    "#Añadir dos personas nuevas a tu diccionario, incluyendo edad.\n",
    "dicc1['Daniela'] = '27'\n",
    "dicc1['José'] = '34'\n",
    "print(\"\\nNuevo Diccionario:\\n\",dicc1)"
   ]
  },
  {
   "cell_type": "code",
   "execution_count": 42,
   "metadata": {},
   "outputs": [
    {
     "name": "stdout",
     "output_type": "stream",
     "text": [
      "Set Aleatorio:\n",
      " {1, 2, 3, 4, 5, 6, 7, 8, 9, 10, 11, 12, 13, 14, 15, 16, 17, 18, 19, 20, 21, 22, 23, 24, 25}\n",
      "\n",
      "La lonngitud del set es de:\n",
      " 25\n",
      "\n",
      "El número: 9 , ¿está en el set inicial?:\n",
      " True\n",
      "\n",
      "El número: 9 , ¿está en el set inicial?:\n",
      " True\n",
      "\n",
      "El número: 3 , ¿está en el set inicial?:\n",
      " True\n",
      "\n",
      "El número: 3 , ¿está en el set inicial?:\n",
      " True\n",
      "\n",
      "El número: 8 , ¿está en el set inicial?:\n",
      " True\n",
      "\n",
      "El número: 7 , ¿está en el set inicial?:\n",
      " True\n",
      "\n",
      "El número: 3 , ¿está en el set inicial?:\n",
      " True\n",
      "\n",
      "El número: 7 , ¿está en el set inicial?:\n",
      " True\n",
      "\n",
      "El número: 5 , ¿está en el set inicial?:\n",
      " True\n",
      "\n",
      "El número: 1 , ¿está en el set inicial?:\n",
      " True\n"
     ]
    }
   ],
   "source": [
    "#Sets\n",
    "#Crea un set con 100 numeros aleatorios enteros del 1 al 25\n",
    "import random as r\n",
    "set1 = set()\n",
    "i=0\n",
    "while i < 100:\n",
    "    set1.add(r.randint(1,25))\n",
    "    i = i+1\n",
    "print(\"Set Aleatorio:\\n\",set1)\n",
    "\n",
    "#Comprueba la longitud de tu set.\n",
    "longset = len(set1)\n",
    "print(\"\\nLa lonngitud del set es de:\\n\",longset)\n",
    "\n",
    "#Crea una lista de 5 numeros aleatorios del 1 al 10 y comprueba si cada valor aparece en el set inicial\n",
    "lista5 = list()\n",
    "i = 0\n",
    "while i < 10:\n",
    "    num = r.randint(1,10)\n",
    "    lista5.append(num)\n",
    "    i = i+1\n",
    "i = 0\n",
    "while i < 10:\n",
    "    comparador = lista5[i] in set1\n",
    "    print(\"\\nEl número:\",lista5[i],\", ¿está en el set inicial?:\\n\",comparador)\n",
    "    i = i+1\n"
   ]
  }
 ],
 "metadata": {
  "kernelspec": {
   "display_name": "Python 3",
   "language": "python",
   "name": "python3"
  },
  "language_info": {
   "codemirror_mode": {
    "name": "ipython",
    "version": 3
   },
   "file_extension": ".py",
   "mimetype": "text/x-python",
   "name": "python",
   "nbconvert_exporter": "python",
   "pygments_lexer": "ipython3",
   "version": "3.8.5"
  }
 },
 "nbformat": 4,
 "nbformat_minor": 4
}
