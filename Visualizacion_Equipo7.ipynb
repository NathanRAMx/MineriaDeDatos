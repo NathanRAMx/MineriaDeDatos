{
 "cells": [
  {
   "cell_type": "markdown",
   "metadata": {},
   "source": [
    "# Práctica 2 - Visualización de Datos\n",
    "### Equipo: 7\n",
    "#### Grupo: 002 \n",
    "#### Integrantes: \n",
    "#### 1745134 Ramírez Arellano Nathanael\n",
    "#### 1795417 Mendoza Sanchez Evelin Yamile\n",
    "#### 1798181 Tello Esparza Jesus Omar"
   ]
  },
  {
   "cell_type": "markdown",
   "metadata": {},
   "source": [
    "## 1. [Heart Failure Prediction](https://www.kaggle.com/andrewmvd/heart-failure-clinical-data)"
   ]
  },
  {
   "cell_type": "markdown",
   "metadata": {},
   "source": [
    "### Preparación de los datos"
   ]
  },
  {
   "cell_type": "code",
   "execution_count": 106,
   "metadata": {},
   "outputs": [],
   "source": [
    "import pandas as pd\n",
    "import numpy as np\n",
    "import json\n",
    "\n",
    "#llamamos el archivo de excel\n",
    "heartbase = pd.read_csv(\"heart_failure_clinical_records_dataset.csv\")"
   ]
  },
  {
   "cell_type": "markdown",
   "metadata": {},
   "source": [
    "### Cambiar el nombre de las columnas\n",
    "- En nuestro caso, modificamos los nombres de las columnas al idioma español"
   ]
  },
  {
   "cell_type": "code",
   "execution_count": 107,
   "metadata": {},
   "outputs": [],
   "source": [
    "heartbase = heartbase.rename(columns = {'age':'Edad','anaemia':'Anemia','creatinine_phosphokinase':'Creatina_Fosfoquinasa','diabetes':'Diabetes','ejection_fraction':'Fraccion_de_Eyeccion',\n",
    "                           'high_blood_pressure':'Hipertension','platelets':'Plaquetas','serum_creatinine':'Suero_de_Creatinina','serum_sodium':'Suero_de_Sodio','sex':'Sexo',\n",
    "                           'smoking':'Fumador','time':'Tiempo','DEATH_EVENT':'Muerte'}) #los nombres de las columnas se modificaron al idioma español"
   ]
  },
  {
   "cell_type": "markdown",
   "metadata": {},
   "source": [
    "Modificar el nombre de las columnas es el único cambio necesario para nuestro análisis, ya que toda la información es importante."
   ]
  },
  {
   "cell_type": "code",
   "execution_count": 108,
   "metadata": {},
   "outputs": [
    {
     "data": {
      "text/html": [
       "<div>\n",
       "<style scoped>\n",
       "    .dataframe tbody tr th:only-of-type {\n",
       "        vertical-align: middle;\n",
       "    }\n",
       "\n",
       "    .dataframe tbody tr th {\n",
       "        vertical-align: top;\n",
       "    }\n",
       "\n",
       "    .dataframe thead th {\n",
       "        text-align: right;\n",
       "    }\n",
       "</style>\n",
       "<table border=\"1\" class=\"dataframe\">\n",
       "  <thead>\n",
       "    <tr style=\"text-align: right;\">\n",
       "      <th></th>\n",
       "      <th>Edad</th>\n",
       "      <th>Anemia</th>\n",
       "      <th>Creatina_Fosfoquinasa</th>\n",
       "      <th>Diabetes</th>\n",
       "      <th>Fraccion_de_Eyeccion</th>\n",
       "      <th>Hipertension</th>\n",
       "      <th>Plaquetas</th>\n",
       "      <th>Suero_de_Creatinina</th>\n",
       "      <th>Suero_de_Sodio</th>\n",
       "      <th>Sexo</th>\n",
       "      <th>Fumador</th>\n",
       "      <th>Tiempo</th>\n",
       "      <th>Muerte</th>\n",
       "    </tr>\n",
       "  </thead>\n",
       "  <tbody>\n",
       "    <tr>\n",
       "      <th>0</th>\n",
       "      <td>75.0</td>\n",
       "      <td>0</td>\n",
       "      <td>582</td>\n",
       "      <td>0</td>\n",
       "      <td>20</td>\n",
       "      <td>1</td>\n",
       "      <td>265000.00</td>\n",
       "      <td>1.9</td>\n",
       "      <td>130</td>\n",
       "      <td>1</td>\n",
       "      <td>0</td>\n",
       "      <td>4</td>\n",
       "      <td>1</td>\n",
       "    </tr>\n",
       "    <tr>\n",
       "      <th>1</th>\n",
       "      <td>55.0</td>\n",
       "      <td>0</td>\n",
       "      <td>7861</td>\n",
       "      <td>0</td>\n",
       "      <td>38</td>\n",
       "      <td>0</td>\n",
       "      <td>263358.03</td>\n",
       "      <td>1.1</td>\n",
       "      <td>136</td>\n",
       "      <td>1</td>\n",
       "      <td>0</td>\n",
       "      <td>6</td>\n",
       "      <td>1</td>\n",
       "    </tr>\n",
       "    <tr>\n",
       "      <th>2</th>\n",
       "      <td>65.0</td>\n",
       "      <td>0</td>\n",
       "      <td>146</td>\n",
       "      <td>0</td>\n",
       "      <td>20</td>\n",
       "      <td>0</td>\n",
       "      <td>162000.00</td>\n",
       "      <td>1.3</td>\n",
       "      <td>129</td>\n",
       "      <td>1</td>\n",
       "      <td>1</td>\n",
       "      <td>7</td>\n",
       "      <td>1</td>\n",
       "    </tr>\n",
       "    <tr>\n",
       "      <th>3</th>\n",
       "      <td>50.0</td>\n",
       "      <td>1</td>\n",
       "      <td>111</td>\n",
       "      <td>0</td>\n",
       "      <td>20</td>\n",
       "      <td>0</td>\n",
       "      <td>210000.00</td>\n",
       "      <td>1.9</td>\n",
       "      <td>137</td>\n",
       "      <td>1</td>\n",
       "      <td>0</td>\n",
       "      <td>7</td>\n",
       "      <td>1</td>\n",
       "    </tr>\n",
       "    <tr>\n",
       "      <th>4</th>\n",
       "      <td>65.0</td>\n",
       "      <td>1</td>\n",
       "      <td>160</td>\n",
       "      <td>1</td>\n",
       "      <td>20</td>\n",
       "      <td>0</td>\n",
       "      <td>327000.00</td>\n",
       "      <td>2.7</td>\n",
       "      <td>116</td>\n",
       "      <td>0</td>\n",
       "      <td>0</td>\n",
       "      <td>8</td>\n",
       "      <td>1</td>\n",
       "    </tr>\n",
       "    <tr>\n",
       "      <th>...</th>\n",
       "      <td>...</td>\n",
       "      <td>...</td>\n",
       "      <td>...</td>\n",
       "      <td>...</td>\n",
       "      <td>...</td>\n",
       "      <td>...</td>\n",
       "      <td>...</td>\n",
       "      <td>...</td>\n",
       "      <td>...</td>\n",
       "      <td>...</td>\n",
       "      <td>...</td>\n",
       "      <td>...</td>\n",
       "      <td>...</td>\n",
       "    </tr>\n",
       "    <tr>\n",
       "      <th>294</th>\n",
       "      <td>62.0</td>\n",
       "      <td>0</td>\n",
       "      <td>61</td>\n",
       "      <td>1</td>\n",
       "      <td>38</td>\n",
       "      <td>1</td>\n",
       "      <td>155000.00</td>\n",
       "      <td>1.1</td>\n",
       "      <td>143</td>\n",
       "      <td>1</td>\n",
       "      <td>1</td>\n",
       "      <td>270</td>\n",
       "      <td>0</td>\n",
       "    </tr>\n",
       "    <tr>\n",
       "      <th>295</th>\n",
       "      <td>55.0</td>\n",
       "      <td>0</td>\n",
       "      <td>1820</td>\n",
       "      <td>0</td>\n",
       "      <td>38</td>\n",
       "      <td>0</td>\n",
       "      <td>270000.00</td>\n",
       "      <td>1.2</td>\n",
       "      <td>139</td>\n",
       "      <td>0</td>\n",
       "      <td>0</td>\n",
       "      <td>271</td>\n",
       "      <td>0</td>\n",
       "    </tr>\n",
       "    <tr>\n",
       "      <th>296</th>\n",
       "      <td>45.0</td>\n",
       "      <td>0</td>\n",
       "      <td>2060</td>\n",
       "      <td>1</td>\n",
       "      <td>60</td>\n",
       "      <td>0</td>\n",
       "      <td>742000.00</td>\n",
       "      <td>0.8</td>\n",
       "      <td>138</td>\n",
       "      <td>0</td>\n",
       "      <td>0</td>\n",
       "      <td>278</td>\n",
       "      <td>0</td>\n",
       "    </tr>\n",
       "    <tr>\n",
       "      <th>297</th>\n",
       "      <td>45.0</td>\n",
       "      <td>0</td>\n",
       "      <td>2413</td>\n",
       "      <td>0</td>\n",
       "      <td>38</td>\n",
       "      <td>0</td>\n",
       "      <td>140000.00</td>\n",
       "      <td>1.4</td>\n",
       "      <td>140</td>\n",
       "      <td>1</td>\n",
       "      <td>1</td>\n",
       "      <td>280</td>\n",
       "      <td>0</td>\n",
       "    </tr>\n",
       "    <tr>\n",
       "      <th>298</th>\n",
       "      <td>50.0</td>\n",
       "      <td>0</td>\n",
       "      <td>196</td>\n",
       "      <td>0</td>\n",
       "      <td>45</td>\n",
       "      <td>0</td>\n",
       "      <td>395000.00</td>\n",
       "      <td>1.6</td>\n",
       "      <td>136</td>\n",
       "      <td>1</td>\n",
       "      <td>1</td>\n",
       "      <td>285</td>\n",
       "      <td>0</td>\n",
       "    </tr>\n",
       "  </tbody>\n",
       "</table>\n",
       "<p>299 rows × 13 columns</p>\n",
       "</div>"
      ],
      "text/plain": [
       "     Edad  Anemia  Creatina_Fosfoquinasa  Diabetes  Fraccion_de_Eyeccion  \\\n",
       "0    75.0       0                    582         0                    20   \n",
       "1    55.0       0                   7861         0                    38   \n",
       "2    65.0       0                    146         0                    20   \n",
       "3    50.0       1                    111         0                    20   \n",
       "4    65.0       1                    160         1                    20   \n",
       "..    ...     ...                    ...       ...                   ...   \n",
       "294  62.0       0                     61         1                    38   \n",
       "295  55.0       0                   1820         0                    38   \n",
       "296  45.0       0                   2060         1                    60   \n",
       "297  45.0       0                   2413         0                    38   \n",
       "298  50.0       0                    196         0                    45   \n",
       "\n",
       "     Hipertension  Plaquetas  Suero_de_Creatinina  Suero_de_Sodio  Sexo  \\\n",
       "0               1  265000.00                  1.9             130     1   \n",
       "1               0  263358.03                  1.1             136     1   \n",
       "2               0  162000.00                  1.3             129     1   \n",
       "3               0  210000.00                  1.9             137     1   \n",
       "4               0  327000.00                  2.7             116     0   \n",
       "..            ...        ...                  ...             ...   ...   \n",
       "294             1  155000.00                  1.1             143     1   \n",
       "295             0  270000.00                  1.2             139     0   \n",
       "296             0  742000.00                  0.8             138     0   \n",
       "297             0  140000.00                  1.4             140     1   \n",
       "298             0  395000.00                  1.6             136     1   \n",
       "\n",
       "     Fumador  Tiempo  Muerte  \n",
       "0          0       4       1  \n",
       "1          0       6       1  \n",
       "2          1       7       1  \n",
       "3          0       7       1  \n",
       "4          0       8       1  \n",
       "..       ...     ...     ...  \n",
       "294        1     270       0  \n",
       "295        0     271       0  \n",
       "296        0     278       0  \n",
       "297        1     280       0  \n",
       "298        1     285       0  \n",
       "\n",
       "[299 rows x 13 columns]"
      ]
     },
     "execution_count": 108,
     "metadata": {},
     "output_type": "execute_result"
    }
   ],
   "source": [
    "heartbase"
   ]
  },
  {
   "cell_type": "markdown",
   "metadata": {},
   "source": [
    "### Información estadística básica\n",
    "A continuación ingresaremos algunas de las opciones que maneja Pandas para la estadística básica."
   ]
  },
  {
   "cell_type": "markdown",
   "metadata": {},
   "source": [
    "- La suma de todos los pacientes que murieron."
   ]
  },
  {
   "cell_type": "code",
   "execution_count": 109,
   "metadata": {},
   "outputs": [
    {
     "data": {
      "text/plain": [
       "96"
      ]
     },
     "execution_count": 109,
     "metadata": {},
     "output_type": "execute_result"
    }
   ],
   "source": [
    "heartbase['Muerte'].sum()"
   ]
  },
  {
   "cell_type": "markdown",
   "metadata": {},
   "source": [
    "- La edad promedio de los pacientes."
   ]
  },
  {
   "cell_type": "code",
   "execution_count": 110,
   "metadata": {},
   "outputs": [
    {
     "data": {
      "text/plain": [
       "60.83389297658862"
      ]
     },
     "execution_count": 110,
     "metadata": {},
     "output_type": "execute_result"
    }
   ],
   "source": [
    "heartbase['Edad'].mean()"
   ]
  },
  {
   "cell_type": "markdown",
   "metadata": {},
   "source": [
    "- Resumen estadístico sobre los niveles de Sodio en la sangre de los pacientes."
   ]
  },
  {
   "cell_type": "code",
   "execution_count": 111,
   "metadata": {},
   "outputs": [
    {
     "data": {
      "text/plain": [
       "count    299.000000\n",
       "mean     136.625418\n",
       "std        4.412477\n",
       "min      113.000000\n",
       "25%      134.000000\n",
       "50%      137.000000\n",
       "75%      140.000000\n",
       "max      148.000000\n",
       "Name: Suero_de_Sodio, dtype: float64"
      ]
     },
     "execution_count": 111,
     "metadata": {},
     "output_type": "execute_result"
    }
   ],
   "source": [
    "heartbase['Suero_de_Sodio'].describe()"
   ]
  },
  {
   "cell_type": "markdown",
   "metadata": {},
   "source": [
    "- Número de pacientes"
   ]
  },
  {
   "cell_type": "code",
   "execution_count": 112,
   "metadata": {},
   "outputs": [
    {
     "data": {
      "text/plain": [
       "299"
      ]
     },
     "execution_count": 112,
     "metadata": {},
     "output_type": "execute_result"
    }
   ],
   "source": [
    "heartbase['Edad'].count()"
   ]
  },
  {
   "cell_type": "markdown",
   "metadata": {},
   "source": [
    "- Tiempo mínimo que pasó siendo observado un paciente."
   ]
  },
  {
   "cell_type": "code",
   "execution_count": 113,
   "metadata": {},
   "outputs": [
    {
     "data": {
      "text/plain": [
       "4"
      ]
     },
     "execution_count": 113,
     "metadata": {},
     "output_type": "execute_result"
    }
   ],
   "source": [
    "heartbase['Tiempo'].min()"
   ]
  },
  {
   "cell_type": "markdown",
   "metadata": {},
   "source": [
    "- Tiempo máximo que pasó siendo observado un paciente."
   ]
  },
  {
   "cell_type": "code",
   "execution_count": 114,
   "metadata": {},
   "outputs": [
    {
     "data": {
      "text/plain": [
       "285"
      ]
     },
     "execution_count": 114,
     "metadata": {},
     "output_type": "execute_result"
    }
   ],
   "source": [
    "heartbase['Tiempo'].max()"
   ]
  },
  {
   "cell_type": "markdown",
   "metadata": {},
   "source": [
    "- Mediana de la edad de los pacientes."
   ]
  },
  {
   "cell_type": "code",
   "execution_count": 115,
   "metadata": {},
   "outputs": [
    {
     "data": {
      "text/plain": [
       "60.0"
      ]
     },
     "execution_count": 115,
     "metadata": {},
     "output_type": "execute_result"
    }
   ],
   "source": [
    "heartbase['Edad'].median()"
   ]
  },
  {
   "cell_type": "markdown",
   "metadata": {},
   "source": [
    "- Varianza de las plaquetas."
   ]
  },
  {
   "cell_type": "code",
   "execution_count": 116,
   "metadata": {},
   "outputs": [
    {
     "data": {
      "text/plain": [
       "9565668749.44888"
      ]
     },
     "execution_count": 116,
     "metadata": {},
     "output_type": "execute_result"
    }
   ],
   "source": [
    "heartbase['Plaquetas'].var()"
   ]
  },
  {
   "cell_type": "markdown",
   "metadata": {},
   "source": [
    "- Desviación estándar de las plaquetas."
   ]
  },
  {
   "cell_type": "code",
   "execution_count": 117,
   "metadata": {},
   "outputs": [
    {
     "data": {
      "text/plain": [
       "97804.23686859828"
      ]
     },
     "execution_count": 117,
     "metadata": {},
     "output_type": "execute_result"
    }
   ],
   "source": [
    "heartbase['Plaquetas'].std()"
   ]
  },
  {
   "cell_type": "markdown",
   "metadata": {},
   "source": [
    "- Correlación de la base de datos."
   ]
  },
  {
   "cell_type": "code",
   "execution_count": 118,
   "metadata": {},
   "outputs": [
    {
     "data": {
      "text/html": [
       "<div>\n",
       "<style scoped>\n",
       "    .dataframe tbody tr th:only-of-type {\n",
       "        vertical-align: middle;\n",
       "    }\n",
       "\n",
       "    .dataframe tbody tr th {\n",
       "        vertical-align: top;\n",
       "    }\n",
       "\n",
       "    .dataframe thead th {\n",
       "        text-align: right;\n",
       "    }\n",
       "</style>\n",
       "<table border=\"1\" class=\"dataframe\">\n",
       "  <thead>\n",
       "    <tr style=\"text-align: right;\">\n",
       "      <th></th>\n",
       "      <th>Edad</th>\n",
       "      <th>Anemia</th>\n",
       "      <th>Creatina_Fosfoquinasa</th>\n",
       "      <th>Diabetes</th>\n",
       "      <th>Fraccion_de_Eyeccion</th>\n",
       "      <th>Hipertension</th>\n",
       "      <th>Plaquetas</th>\n",
       "      <th>Suero_de_Creatinina</th>\n",
       "      <th>Suero_de_Sodio</th>\n",
       "      <th>Sexo</th>\n",
       "      <th>Fumador</th>\n",
       "      <th>Tiempo</th>\n",
       "      <th>Muerte</th>\n",
       "    </tr>\n",
       "  </thead>\n",
       "  <tbody>\n",
       "    <tr>\n",
       "      <th>Edad</th>\n",
       "      <td>1.000000</td>\n",
       "      <td>0.088006</td>\n",
       "      <td>-0.081584</td>\n",
       "      <td>-0.101012</td>\n",
       "      <td>0.060098</td>\n",
       "      <td>0.093289</td>\n",
       "      <td>-0.052354</td>\n",
       "      <td>0.159187</td>\n",
       "      <td>-0.045966</td>\n",
       "      <td>0.065430</td>\n",
       "      <td>0.018668</td>\n",
       "      <td>-0.224068</td>\n",
       "      <td>0.253729</td>\n",
       "    </tr>\n",
       "    <tr>\n",
       "      <th>Anemia</th>\n",
       "      <td>0.088006</td>\n",
       "      <td>1.000000</td>\n",
       "      <td>-0.190741</td>\n",
       "      <td>-0.012729</td>\n",
       "      <td>0.031557</td>\n",
       "      <td>0.038182</td>\n",
       "      <td>-0.043786</td>\n",
       "      <td>0.052174</td>\n",
       "      <td>0.041882</td>\n",
       "      <td>-0.094769</td>\n",
       "      <td>-0.107290</td>\n",
       "      <td>-0.141414</td>\n",
       "      <td>0.066270</td>\n",
       "    </tr>\n",
       "    <tr>\n",
       "      <th>Creatina_Fosfoquinasa</th>\n",
       "      <td>-0.081584</td>\n",
       "      <td>-0.190741</td>\n",
       "      <td>1.000000</td>\n",
       "      <td>-0.009639</td>\n",
       "      <td>-0.044080</td>\n",
       "      <td>-0.070590</td>\n",
       "      <td>0.024463</td>\n",
       "      <td>-0.016408</td>\n",
       "      <td>0.059550</td>\n",
       "      <td>0.079791</td>\n",
       "      <td>0.002421</td>\n",
       "      <td>-0.009346</td>\n",
       "      <td>0.062728</td>\n",
       "    </tr>\n",
       "    <tr>\n",
       "      <th>Diabetes</th>\n",
       "      <td>-0.101012</td>\n",
       "      <td>-0.012729</td>\n",
       "      <td>-0.009639</td>\n",
       "      <td>1.000000</td>\n",
       "      <td>-0.004850</td>\n",
       "      <td>-0.012732</td>\n",
       "      <td>0.092193</td>\n",
       "      <td>-0.046975</td>\n",
       "      <td>-0.089551</td>\n",
       "      <td>-0.157730</td>\n",
       "      <td>-0.147173</td>\n",
       "      <td>0.033726</td>\n",
       "      <td>-0.001943</td>\n",
       "    </tr>\n",
       "    <tr>\n",
       "      <th>Fraccion_de_Eyeccion</th>\n",
       "      <td>0.060098</td>\n",
       "      <td>0.031557</td>\n",
       "      <td>-0.044080</td>\n",
       "      <td>-0.004850</td>\n",
       "      <td>1.000000</td>\n",
       "      <td>0.024445</td>\n",
       "      <td>0.072177</td>\n",
       "      <td>-0.011302</td>\n",
       "      <td>0.175902</td>\n",
       "      <td>-0.148386</td>\n",
       "      <td>-0.067315</td>\n",
       "      <td>0.041729</td>\n",
       "      <td>-0.268603</td>\n",
       "    </tr>\n",
       "    <tr>\n",
       "      <th>Hipertension</th>\n",
       "      <td>0.093289</td>\n",
       "      <td>0.038182</td>\n",
       "      <td>-0.070590</td>\n",
       "      <td>-0.012732</td>\n",
       "      <td>0.024445</td>\n",
       "      <td>1.000000</td>\n",
       "      <td>0.049963</td>\n",
       "      <td>-0.004935</td>\n",
       "      <td>0.037109</td>\n",
       "      <td>-0.104615</td>\n",
       "      <td>-0.055711</td>\n",
       "      <td>-0.196439</td>\n",
       "      <td>0.079351</td>\n",
       "    </tr>\n",
       "    <tr>\n",
       "      <th>Plaquetas</th>\n",
       "      <td>-0.052354</td>\n",
       "      <td>-0.043786</td>\n",
       "      <td>0.024463</td>\n",
       "      <td>0.092193</td>\n",
       "      <td>0.072177</td>\n",
       "      <td>0.049963</td>\n",
       "      <td>1.000000</td>\n",
       "      <td>-0.041198</td>\n",
       "      <td>0.062125</td>\n",
       "      <td>-0.125120</td>\n",
       "      <td>0.028234</td>\n",
       "      <td>0.010514</td>\n",
       "      <td>-0.049139</td>\n",
       "    </tr>\n",
       "    <tr>\n",
       "      <th>Suero_de_Creatinina</th>\n",
       "      <td>0.159187</td>\n",
       "      <td>0.052174</td>\n",
       "      <td>-0.016408</td>\n",
       "      <td>-0.046975</td>\n",
       "      <td>-0.011302</td>\n",
       "      <td>-0.004935</td>\n",
       "      <td>-0.041198</td>\n",
       "      <td>1.000000</td>\n",
       "      <td>-0.189095</td>\n",
       "      <td>0.006970</td>\n",
       "      <td>-0.027414</td>\n",
       "      <td>-0.149315</td>\n",
       "      <td>0.294278</td>\n",
       "    </tr>\n",
       "    <tr>\n",
       "      <th>Suero_de_Sodio</th>\n",
       "      <td>-0.045966</td>\n",
       "      <td>0.041882</td>\n",
       "      <td>0.059550</td>\n",
       "      <td>-0.089551</td>\n",
       "      <td>0.175902</td>\n",
       "      <td>0.037109</td>\n",
       "      <td>0.062125</td>\n",
       "      <td>-0.189095</td>\n",
       "      <td>1.000000</td>\n",
       "      <td>-0.027566</td>\n",
       "      <td>0.004813</td>\n",
       "      <td>0.087640</td>\n",
       "      <td>-0.195204</td>\n",
       "    </tr>\n",
       "    <tr>\n",
       "      <th>Sexo</th>\n",
       "      <td>0.065430</td>\n",
       "      <td>-0.094769</td>\n",
       "      <td>0.079791</td>\n",
       "      <td>-0.157730</td>\n",
       "      <td>-0.148386</td>\n",
       "      <td>-0.104615</td>\n",
       "      <td>-0.125120</td>\n",
       "      <td>0.006970</td>\n",
       "      <td>-0.027566</td>\n",
       "      <td>1.000000</td>\n",
       "      <td>0.445892</td>\n",
       "      <td>-0.015608</td>\n",
       "      <td>-0.004316</td>\n",
       "    </tr>\n",
       "    <tr>\n",
       "      <th>Fumador</th>\n",
       "      <td>0.018668</td>\n",
       "      <td>-0.107290</td>\n",
       "      <td>0.002421</td>\n",
       "      <td>-0.147173</td>\n",
       "      <td>-0.067315</td>\n",
       "      <td>-0.055711</td>\n",
       "      <td>0.028234</td>\n",
       "      <td>-0.027414</td>\n",
       "      <td>0.004813</td>\n",
       "      <td>0.445892</td>\n",
       "      <td>1.000000</td>\n",
       "      <td>-0.022839</td>\n",
       "      <td>-0.012623</td>\n",
       "    </tr>\n",
       "    <tr>\n",
       "      <th>Tiempo</th>\n",
       "      <td>-0.224068</td>\n",
       "      <td>-0.141414</td>\n",
       "      <td>-0.009346</td>\n",
       "      <td>0.033726</td>\n",
       "      <td>0.041729</td>\n",
       "      <td>-0.196439</td>\n",
       "      <td>0.010514</td>\n",
       "      <td>-0.149315</td>\n",
       "      <td>0.087640</td>\n",
       "      <td>-0.015608</td>\n",
       "      <td>-0.022839</td>\n",
       "      <td>1.000000</td>\n",
       "      <td>-0.526964</td>\n",
       "    </tr>\n",
       "    <tr>\n",
       "      <th>Muerte</th>\n",
       "      <td>0.253729</td>\n",
       "      <td>0.066270</td>\n",
       "      <td>0.062728</td>\n",
       "      <td>-0.001943</td>\n",
       "      <td>-0.268603</td>\n",
       "      <td>0.079351</td>\n",
       "      <td>-0.049139</td>\n",
       "      <td>0.294278</td>\n",
       "      <td>-0.195204</td>\n",
       "      <td>-0.004316</td>\n",
       "      <td>-0.012623</td>\n",
       "      <td>-0.526964</td>\n",
       "      <td>1.000000</td>\n",
       "    </tr>\n",
       "  </tbody>\n",
       "</table>\n",
       "</div>"
      ],
      "text/plain": [
       "                           Edad    Anemia  Creatina_Fosfoquinasa  Diabetes  \\\n",
       "Edad                   1.000000  0.088006              -0.081584 -0.101012   \n",
       "Anemia                 0.088006  1.000000              -0.190741 -0.012729   \n",
       "Creatina_Fosfoquinasa -0.081584 -0.190741               1.000000 -0.009639   \n",
       "Diabetes              -0.101012 -0.012729              -0.009639  1.000000   \n",
       "Fraccion_de_Eyeccion   0.060098  0.031557              -0.044080 -0.004850   \n",
       "Hipertension           0.093289  0.038182              -0.070590 -0.012732   \n",
       "Plaquetas             -0.052354 -0.043786               0.024463  0.092193   \n",
       "Suero_de_Creatinina    0.159187  0.052174              -0.016408 -0.046975   \n",
       "Suero_de_Sodio        -0.045966  0.041882               0.059550 -0.089551   \n",
       "Sexo                   0.065430 -0.094769               0.079791 -0.157730   \n",
       "Fumador                0.018668 -0.107290               0.002421 -0.147173   \n",
       "Tiempo                -0.224068 -0.141414              -0.009346  0.033726   \n",
       "Muerte                 0.253729  0.066270               0.062728 -0.001943   \n",
       "\n",
       "                       Fraccion_de_Eyeccion  Hipertension  Plaquetas  \\\n",
       "Edad                               0.060098      0.093289  -0.052354   \n",
       "Anemia                             0.031557      0.038182  -0.043786   \n",
       "Creatina_Fosfoquinasa             -0.044080     -0.070590   0.024463   \n",
       "Diabetes                          -0.004850     -0.012732   0.092193   \n",
       "Fraccion_de_Eyeccion               1.000000      0.024445   0.072177   \n",
       "Hipertension                       0.024445      1.000000   0.049963   \n",
       "Plaquetas                          0.072177      0.049963   1.000000   \n",
       "Suero_de_Creatinina               -0.011302     -0.004935  -0.041198   \n",
       "Suero_de_Sodio                     0.175902      0.037109   0.062125   \n",
       "Sexo                              -0.148386     -0.104615  -0.125120   \n",
       "Fumador                           -0.067315     -0.055711   0.028234   \n",
       "Tiempo                             0.041729     -0.196439   0.010514   \n",
       "Muerte                            -0.268603      0.079351  -0.049139   \n",
       "\n",
       "                       Suero_de_Creatinina  Suero_de_Sodio      Sexo  \\\n",
       "Edad                              0.159187       -0.045966  0.065430   \n",
       "Anemia                            0.052174        0.041882 -0.094769   \n",
       "Creatina_Fosfoquinasa            -0.016408        0.059550  0.079791   \n",
       "Diabetes                         -0.046975       -0.089551 -0.157730   \n",
       "Fraccion_de_Eyeccion             -0.011302        0.175902 -0.148386   \n",
       "Hipertension                     -0.004935        0.037109 -0.104615   \n",
       "Plaquetas                        -0.041198        0.062125 -0.125120   \n",
       "Suero_de_Creatinina               1.000000       -0.189095  0.006970   \n",
       "Suero_de_Sodio                   -0.189095        1.000000 -0.027566   \n",
       "Sexo                              0.006970       -0.027566  1.000000   \n",
       "Fumador                          -0.027414        0.004813  0.445892   \n",
       "Tiempo                           -0.149315        0.087640 -0.015608   \n",
       "Muerte                            0.294278       -0.195204 -0.004316   \n",
       "\n",
       "                        Fumador    Tiempo    Muerte  \n",
       "Edad                   0.018668 -0.224068  0.253729  \n",
       "Anemia                -0.107290 -0.141414  0.066270  \n",
       "Creatina_Fosfoquinasa  0.002421 -0.009346  0.062728  \n",
       "Diabetes              -0.147173  0.033726 -0.001943  \n",
       "Fraccion_de_Eyeccion  -0.067315  0.041729 -0.268603  \n",
       "Hipertension          -0.055711 -0.196439  0.079351  \n",
       "Plaquetas              0.028234  0.010514 -0.049139  \n",
       "Suero_de_Creatinina   -0.027414 -0.149315  0.294278  \n",
       "Suero_de_Sodio         0.004813  0.087640 -0.195204  \n",
       "Sexo                   0.445892 -0.015608 -0.004316  \n",
       "Fumador                1.000000 -0.022839 -0.012623  \n",
       "Tiempo                -0.022839  1.000000 -0.526964  \n",
       "Muerte                -0.012623 -0.526964  1.000000  "
      ]
     },
     "execution_count": 118,
     "metadata": {},
     "output_type": "execute_result"
    }
   ],
   "source": [
    "heartbase.corr()"
   ]
  },
  {
   "cell_type": "markdown",
   "metadata": {},
   "source": [
    "- Covarianza de los datos."
   ]
  },
  {
   "cell_type": "code",
   "execution_count": 119,
   "metadata": {},
   "outputs": [
    {
     "data": {
      "text/html": [
       "<div>\n",
       "<style scoped>\n",
       "    .dataframe tbody tr th:only-of-type {\n",
       "        vertical-align: middle;\n",
       "    }\n",
       "\n",
       "    .dataframe tbody tr th {\n",
       "        vertical-align: top;\n",
       "    }\n",
       "\n",
       "    .dataframe thead th {\n",
       "        text-align: right;\n",
       "    }\n",
       "</style>\n",
       "<table border=\"1\" class=\"dataframe\">\n",
       "  <thead>\n",
       "    <tr style=\"text-align: right;\">\n",
       "      <th></th>\n",
       "      <th>Edad</th>\n",
       "      <th>Anemia</th>\n",
       "      <th>Creatina_Fosfoquinasa</th>\n",
       "      <th>Diabetes</th>\n",
       "      <th>Fraccion_de_Eyeccion</th>\n",
       "      <th>Hipertension</th>\n",
       "      <th>Plaquetas</th>\n",
       "      <th>Suero_de_Creatinina</th>\n",
       "      <th>Suero_de_Sodio</th>\n",
       "      <th>Sexo</th>\n",
       "      <th>Fumador</th>\n",
       "      <th>Tiempo</th>\n",
       "      <th>Muerte</th>\n",
       "    </tr>\n",
       "  </thead>\n",
       "  <tbody>\n",
       "    <tr>\n",
       "      <th>Edad</th>\n",
       "      <td>141.486483</td>\n",
       "      <td>0.519335</td>\n",
       "      <td>-9.415915e+02</td>\n",
       "      <td>-0.593633</td>\n",
       "      <td>8.460237</td>\n",
       "      <td>0.530565</td>\n",
       "      <td>-6.090712e+04</td>\n",
       "      <td>1.958845</td>\n",
       "      <td>-2.412544</td>\n",
       "      <td>0.372120</td>\n",
       "      <td>0.103847</td>\n",
       "      <td>-206.861351</td>\n",
       "      <td>1.411454</td>\n",
       "    </tr>\n",
       "    <tr>\n",
       "      <th>Anemia</th>\n",
       "      <td>0.519335</td>\n",
       "      <td>0.246122</td>\n",
       "      <td>-9.181641e+01</td>\n",
       "      <td>-0.003120</td>\n",
       "      <td>0.185282</td>\n",
       "      <td>0.009057</td>\n",
       "      <td>-2.124536e+03</td>\n",
       "      <td>0.026777</td>\n",
       "      <td>0.091681</td>\n",
       "      <td>-0.022480</td>\n",
       "      <td>-0.024893</td>\n",
       "      <td>-5.445142</td>\n",
       "      <td>0.015376</td>\n",
       "    </tr>\n",
       "    <tr>\n",
       "      <th>Creatina_Fosfoquinasa</th>\n",
       "      <td>-941.591531</td>\n",
       "      <td>-91.816413</td>\n",
       "      <td>9.414586e+05</td>\n",
       "      <td>-4.620581</td>\n",
       "      <td>-506.174452</td>\n",
       "      <td>-32.748805</td>\n",
       "      <td>2.321533e+06</td>\n",
       "      <td>-16.470382</td>\n",
       "      <td>254.956443</td>\n",
       "      <td>37.017261</td>\n",
       "      <td>1.098696</td>\n",
       "      <td>-703.803618</td>\n",
       "      <td>28.464468</td>\n",
       "    </tr>\n",
       "    <tr>\n",
       "      <th>Diabetes</th>\n",
       "      <td>-0.593633</td>\n",
       "      <td>-0.003120</td>\n",
       "      <td>-4.620581e+00</td>\n",
       "      <td>0.244102</td>\n",
       "      <td>-0.028361</td>\n",
       "      <td>-0.003008</td>\n",
       "      <td>4.454928e+03</td>\n",
       "      <td>-0.024010</td>\n",
       "      <td>-0.195226</td>\n",
       "      <td>-0.037261</td>\n",
       "      <td>-0.034006</td>\n",
       "      <td>1.293259</td>\n",
       "      <td>-0.000449</td>\n",
       "    </tr>\n",
       "    <tr>\n",
       "      <th>Fraccion_de_Eyeccion</th>\n",
       "      <td>8.460237</td>\n",
       "      <td>0.185282</td>\n",
       "      <td>-5.061745e+02</td>\n",
       "      <td>-0.028361</td>\n",
       "      <td>140.063455</td>\n",
       "      <td>0.138325</td>\n",
       "      <td>8.354524e+04</td>\n",
       "      <td>-0.138379</td>\n",
       "      <td>9.185787</td>\n",
       "      <td>-0.839667</td>\n",
       "      <td>-0.372573</td>\n",
       "      <td>38.330464</td>\n",
       "      <td>-1.486667</td>\n",
       "    </tr>\n",
       "    <tr>\n",
       "      <th>Hipertension</th>\n",
       "      <td>0.530565</td>\n",
       "      <td>0.009057</td>\n",
       "      <td>-3.274880e+01</td>\n",
       "      <td>-0.003008</td>\n",
       "      <td>0.138325</td>\n",
       "      <td>0.228614</td>\n",
       "      <td>2.336480e+03</td>\n",
       "      <td>-0.002441</td>\n",
       "      <td>0.078292</td>\n",
       "      <td>-0.023916</td>\n",
       "      <td>-0.012458</td>\n",
       "      <td>-7.289904</td>\n",
       "      <td>0.017744</td>\n",
       "    </tr>\n",
       "    <tr>\n",
       "      <th>Plaquetas</th>\n",
       "      <td>-60907.118586</td>\n",
       "      <td>-2124.535856</td>\n",
       "      <td>2.321533e+06</td>\n",
       "      <td>4454.928228</td>\n",
       "      <td>83545.241001</td>\n",
       "      <td>2336.480427</td>\n",
       "      <td>9.565669e+09</td>\n",
       "      <td>-4168.399498</td>\n",
       "      <td>26810.436905</td>\n",
       "      <td>-5851.104689</td>\n",
       "      <td>1291.447854</td>\n",
       "      <td>79811.066099</td>\n",
       "      <td>-2247.619159</td>\n",
       "    </tr>\n",
       "    <tr>\n",
       "      <th>Suero_de_Creatinina</th>\n",
       "      <td>1.958845</td>\n",
       "      <td>0.026777</td>\n",
       "      <td>-1.647038e+01</td>\n",
       "      <td>-0.024010</td>\n",
       "      <td>-0.138379</td>\n",
       "      <td>-0.002441</td>\n",
       "      <td>-4.168399e+03</td>\n",
       "      <td>1.070211</td>\n",
       "      <td>-0.863173</td>\n",
       "      <td>0.003448</td>\n",
       "      <td>-0.013263</td>\n",
       "      <td>-11.988935</td>\n",
       "      <td>0.142374</td>\n",
       "    </tr>\n",
       "    <tr>\n",
       "      <th>Suero_de_Sodio</th>\n",
       "      <td>-2.412544</td>\n",
       "      <td>0.091681</td>\n",
       "      <td>2.549564e+02</td>\n",
       "      <td>-0.195226</td>\n",
       "      <td>9.185787</td>\n",
       "      <td>0.078292</td>\n",
       "      <td>2.681044e+04</td>\n",
       "      <td>-0.863173</td>\n",
       "      <td>19.469956</td>\n",
       "      <td>-0.058158</td>\n",
       "      <td>0.009932</td>\n",
       "      <td>30.014152</td>\n",
       "      <td>-0.402819</td>\n",
       "    </tr>\n",
       "    <tr>\n",
       "      <th>Sexo</th>\n",
       "      <td>0.372120</td>\n",
       "      <td>-0.022480</td>\n",
       "      <td>3.701726e+01</td>\n",
       "      <td>-0.037261</td>\n",
       "      <td>-0.839667</td>\n",
       "      <td>-0.023916</td>\n",
       "      <td>-5.851105e+03</td>\n",
       "      <td>0.003448</td>\n",
       "      <td>-0.058158</td>\n",
       "      <td>0.228614</td>\n",
       "      <td>0.099706</td>\n",
       "      <td>-0.579224</td>\n",
       "      <td>-0.000965</td>\n",
       "    </tr>\n",
       "    <tr>\n",
       "      <th>Fumador</th>\n",
       "      <td>0.103847</td>\n",
       "      <td>-0.024893</td>\n",
       "      <td>1.098696e+00</td>\n",
       "      <td>-0.034006</td>\n",
       "      <td>-0.372573</td>\n",
       "      <td>-0.012458</td>\n",
       "      <td>1.291448e+03</td>\n",
       "      <td>-0.013263</td>\n",
       "      <td>0.009932</td>\n",
       "      <td>0.099706</td>\n",
       "      <td>0.218716</td>\n",
       "      <td>-0.829005</td>\n",
       "      <td>-0.002761</td>\n",
       "    </tr>\n",
       "    <tr>\n",
       "      <th>Tiempo</th>\n",
       "      <td>-206.861351</td>\n",
       "      <td>-5.445142</td>\n",
       "      <td>-7.038036e+02</td>\n",
       "      <td>1.293259</td>\n",
       "      <td>38.330464</td>\n",
       "      <td>-7.289904</td>\n",
       "      <td>7.981107e+04</td>\n",
       "      <td>-11.988935</td>\n",
       "      <td>30.014152</td>\n",
       "      <td>-0.579224</td>\n",
       "      <td>-0.829005</td>\n",
       "      <td>6023.965276</td>\n",
       "      <td>-19.127663</td>\n",
       "    </tr>\n",
       "    <tr>\n",
       "      <th>Muerte</th>\n",
       "      <td>1.411454</td>\n",
       "      <td>0.015376</td>\n",
       "      <td>2.846447e+01</td>\n",
       "      <td>-0.000449</td>\n",
       "      <td>-1.486667</td>\n",
       "      <td>0.017744</td>\n",
       "      <td>-2.247619e+03</td>\n",
       "      <td>0.142374</td>\n",
       "      <td>-0.402819</td>\n",
       "      <td>-0.000965</td>\n",
       "      <td>-0.002761</td>\n",
       "      <td>-19.127663</td>\n",
       "      <td>0.218716</td>\n",
       "    </tr>\n",
       "  </tbody>\n",
       "</table>\n",
       "</div>"
      ],
      "text/plain": [
       "                               Edad       Anemia  Creatina_Fosfoquinasa  \\\n",
       "Edad                     141.486483     0.519335          -9.415915e+02   \n",
       "Anemia                     0.519335     0.246122          -9.181641e+01   \n",
       "Creatina_Fosfoquinasa   -941.591531   -91.816413           9.414586e+05   \n",
       "Diabetes                  -0.593633    -0.003120          -4.620581e+00   \n",
       "Fraccion_de_Eyeccion       8.460237     0.185282          -5.061745e+02   \n",
       "Hipertension               0.530565     0.009057          -3.274880e+01   \n",
       "Plaquetas             -60907.118586 -2124.535856           2.321533e+06   \n",
       "Suero_de_Creatinina        1.958845     0.026777          -1.647038e+01   \n",
       "Suero_de_Sodio            -2.412544     0.091681           2.549564e+02   \n",
       "Sexo                       0.372120    -0.022480           3.701726e+01   \n",
       "Fumador                    0.103847    -0.024893           1.098696e+00   \n",
       "Tiempo                  -206.861351    -5.445142          -7.038036e+02   \n",
       "Muerte                     1.411454     0.015376           2.846447e+01   \n",
       "\n",
       "                          Diabetes  Fraccion_de_Eyeccion  Hipertension  \\\n",
       "Edad                     -0.593633              8.460237      0.530565   \n",
       "Anemia                   -0.003120              0.185282      0.009057   \n",
       "Creatina_Fosfoquinasa    -4.620581           -506.174452    -32.748805   \n",
       "Diabetes                  0.244102             -0.028361     -0.003008   \n",
       "Fraccion_de_Eyeccion     -0.028361            140.063455      0.138325   \n",
       "Hipertension             -0.003008              0.138325      0.228614   \n",
       "Plaquetas              4454.928228          83545.241001   2336.480427   \n",
       "Suero_de_Creatinina      -0.024010             -0.138379     -0.002441   \n",
       "Suero_de_Sodio           -0.195226              9.185787      0.078292   \n",
       "Sexo                     -0.037261             -0.839667     -0.023916   \n",
       "Fumador                  -0.034006             -0.372573     -0.012458   \n",
       "Tiempo                    1.293259             38.330464     -7.289904   \n",
       "Muerte                   -0.000449             -1.486667      0.017744   \n",
       "\n",
       "                          Plaquetas  Suero_de_Creatinina  Suero_de_Sodio  \\\n",
       "Edad                  -6.090712e+04             1.958845       -2.412544   \n",
       "Anemia                -2.124536e+03             0.026777        0.091681   \n",
       "Creatina_Fosfoquinasa  2.321533e+06           -16.470382      254.956443   \n",
       "Diabetes               4.454928e+03            -0.024010       -0.195226   \n",
       "Fraccion_de_Eyeccion   8.354524e+04            -0.138379        9.185787   \n",
       "Hipertension           2.336480e+03            -0.002441        0.078292   \n",
       "Plaquetas              9.565669e+09         -4168.399498    26810.436905   \n",
       "Suero_de_Creatinina   -4.168399e+03             1.070211       -0.863173   \n",
       "Suero_de_Sodio         2.681044e+04            -0.863173       19.469956   \n",
       "Sexo                  -5.851105e+03             0.003448       -0.058158   \n",
       "Fumador                1.291448e+03            -0.013263        0.009932   \n",
       "Tiempo                 7.981107e+04           -11.988935       30.014152   \n",
       "Muerte                -2.247619e+03             0.142374       -0.402819   \n",
       "\n",
       "                              Sexo      Fumador        Tiempo       Muerte  \n",
       "Edad                      0.372120     0.103847   -206.861351     1.411454  \n",
       "Anemia                   -0.022480    -0.024893     -5.445142     0.015376  \n",
       "Creatina_Fosfoquinasa    37.017261     1.098696   -703.803618    28.464468  \n",
       "Diabetes                 -0.037261    -0.034006      1.293259    -0.000449  \n",
       "Fraccion_de_Eyeccion     -0.839667    -0.372573     38.330464    -1.486667  \n",
       "Hipertension             -0.023916    -0.012458     -7.289904     0.017744  \n",
       "Plaquetas             -5851.104689  1291.447854  79811.066099 -2247.619159  \n",
       "Suero_de_Creatinina       0.003448    -0.013263    -11.988935     0.142374  \n",
       "Suero_de_Sodio           -0.058158     0.009932     30.014152    -0.402819  \n",
       "Sexo                      0.228614     0.099706     -0.579224    -0.000965  \n",
       "Fumador                   0.099706     0.218716     -0.829005    -0.002761  \n",
       "Tiempo                   -0.579224    -0.829005   6023.965276   -19.127663  \n",
       "Muerte                   -0.000965    -0.002761    -19.127663     0.218716  "
      ]
     },
     "execution_count": 119,
     "metadata": {},
     "output_type": "execute_result"
    }
   ],
   "source": [
    "heartbase.cov()"
   ]
  },
  {
   "cell_type": "markdown",
   "metadata": {},
   "source": [
    "### Gráficos\n",
    "Importamos librerias necesarias."
   ]
  },
  {
   "cell_type": "code",
   "execution_count": 120,
   "metadata": {},
   "outputs": [],
   "source": [
    "import seaborn as sns\n",
    "import matplotlib as plt\n",
    "%matplotlib inline"
   ]
  },
  {
   "cell_type": "markdown",
   "metadata": {},
   "source": [
    "### Gráfica de barras:"
   ]
  },
  {
   "cell_type": "markdown",
   "metadata": {},
   "source": [
    "- Las 10 edades con mayores números de pacientes. Podemos observar que más de 30 paceintes tienen 60 años."
   ]
  },
  {
   "cell_type": "code",
   "execution_count": 121,
   "metadata": {},
   "outputs": [
    {
     "data": {
      "text/plain": [
       "<AxesSubplot:>"
      ]
     },
     "execution_count": 121,
     "metadata": {},
     "output_type": "execute_result"
    },
    {
     "data": {
      "image/png": "[encoded data removed]",
      "text/plain": [
       "<Figure size 432x288 with 1 Axes>"
      ]
     },
     "metadata": {
      "needs_background": "light"
     },
     "output_type": "display_data"
    }
   ],
   "source": [
    "heartbase['Edad'].value_counts().head(10).plot.bar()"
   ]
  },
  {
   "cell_type": "markdown",
   "metadata": {},
   "source": [
    "### Gráfica de lineas:"
   ]
  },
  {
   "cell_type": "markdown",
   "metadata": {},
   "source": [
    "- Observamos la cantidad de personas que expulsan cierto porcentaje de sangre tras cada contracción."
   ]
  },
  {
   "cell_type": "code",
   "execution_count": 122,
   "metadata": {},
   "outputs": [
    {
     "data": {
      "text/plain": [
       "<AxesSubplot:>"
      ]
     },
     "execution_count": 122,
     "metadata": {},
     "output_type": "execute_result"
    },
    {
     "data": {
      "image/png": "[encoded data removed]",
      "text/plain": [
       "<Figure size 432x288 with 1 Axes>"
      ]
     },
     "metadata": {
      "needs_background": "light"
     },
     "output_type": "display_data"
    }
   ],
   "source": [
    "heartbase['Fraccion_de_Eyeccion'].value_counts().sort_index().plot.line()"
   ]
  },
  {
   "cell_type": "markdown",
   "metadata": {},
   "source": [
    "- Área"
   ]
  },
  {
   "cell_type": "code",
   "execution_count": 123,
   "metadata": {},
   "outputs": [
    {
     "data": {
      "text/plain": [
       "<AxesSubplot:>"
      ]
     },
     "execution_count": 123,
     "metadata": {},
     "output_type": "execute_result"
    },
    {
     "data": {
      "image/png": "[encoded data removed]",
      "text/plain": [
       "<Figure size 432x288 with 1 Axes>"
      ]
     },
     "metadata": {
      "needs_background": "light"
     },
     "output_type": "display_data"
    }
   ],
   "source": [
    "heartbase['Fraccion_de_Eyeccion'].value_counts().sort_index().plot.area()"
   ]
  },
  {
   "cell_type": "markdown",
   "metadata": {},
   "source": [
    "### Histogramas:"
   ]
  },
  {
   "cell_type": "markdown",
   "metadata": {},
   "source": [
    "- Observamos los intervalos en los cuales mueren más pacientes."
   ]
  },
  {
   "cell_type": "code",
   "execution_count": 124,
   "metadata": {},
   "outputs": [
    {
     "data": {
      "text/plain": [
       "<AxesSubplot:ylabel='Frequency'>"
      ]
     },
     "execution_count": 124,
     "metadata": {},
     "output_type": "execute_result"
    },
    {
     "data": {
      "image/png": "[encoded data removed]",
      "text/plain": [
       "<Figure size 432x288 with 1 Axes>"
      ]
     },
     "metadata": {
      "needs_background": "light"
     },
     "output_type": "display_data"
    }
   ],
   "source": [
    "heartbase['Tiempo'].plot.hist()"
   ]
  },
  {
   "cell_type": "markdown",
   "metadata": {},
   "source": [
    "### Scatter plot:"
   ]
  },
  {
   "cell_type": "markdown",
   "metadata": {},
   "source": [
    "- En esta gráfica de dispersión, podemos observar que la mayoría de los niveles de Creatina fosfoquinasa se encuentra por debajo de los 3000."
   ]
  },
  {
   "cell_type": "code",
   "execution_count": 125,
   "metadata": {},
   "outputs": [
    {
     "data": {
      "text/plain": [
       "<AxesSubplot:xlabel='Edad', ylabel='Creatina_Fosfoquinasa'>"
      ]
     },
     "execution_count": 125,
     "metadata": {},
     "output_type": "execute_result"
    },
    {
     "data": {
      "image/png": "[encoded data removed]",
      "text/plain": [
       "<Figure size 432x288 with 1 Axes>"
      ]
     },
     "metadata": {
      "needs_background": "light"
     },
     "output_type": "display_data"
    }
   ],
   "source": [
    "heartbase.plot.scatter(x='Edad', y='Creatina_Fosfoquinasa')"
   ]
  },
  {
   "cell_type": "markdown",
   "metadata": {},
   "source": [
    "- Hexplot"
   ]
  },
  {
   "cell_type": "code",
   "execution_count": 126,
   "metadata": {},
   "outputs": [
    {
     "data": {
      "text/plain": [
       "<AxesSubplot:xlabel='Edad', ylabel='Creatina_Fosfoquinasa'>"
      ]
     },
     "execution_count": 126,
     "metadata": {},
     "output_type": "execute_result"
    },
    {
     "data": {
      "image/png": "[encoded data removed]",
      "text/plain": [
       "<Figure size 432x288 with 2 Axes>"
      ]
     },
     "metadata": {
      "needs_background": "light"
     },
     "output_type": "display_data"
    }
   ],
   "source": [
    "heartbase[heartbase['Creatina_Fosfoquinasa']<500].plot.hexbin(x='Edad', y='Creatina_Fosfoquinasa')"
   ]
  },
  {
   "cell_type": "markdown",
   "metadata": {},
   "source": [
    "### Stacked plots:"
   ]
  },
  {
   "cell_type": "code",
   "execution_count": 127,
   "metadata": {},
   "outputs": [
    {
     "data": {
      "text/plain": [
       "<AxesSubplot:>"
      ]
     },
     "execution_count": 127,
     "metadata": {},
     "output_type": "execute_result"
    },
    {
     "data": {
      "image/png": "[encoded data removed]",
      "text/plain": [
       "<Figure size 432x288 with 1 Axes>"
      ]
     },
     "metadata": {
      "needs_background": "light"
     },
     "output_type": "display_data"
    }
   ],
   "source": [
    "heartbase[heartbase['Edad']<45].plot.bar(stacked=True)"
   ]
  },
  {
   "cell_type": "code",
   "execution_count": 128,
   "metadata": {},
   "outputs": [
    {
     "data": {
      "text/plain": [
       "<AxesSubplot:>"
      ]
     },
     "execution_count": 128,
     "metadata": {},
     "output_type": "execute_result"
    },
    {
     "data": {
      "image/png": "[encoded data removed]",
      "text/plain": [
       "<Figure size 432x288 with 1 Axes>"
      ]
     },
     "metadata": {
      "needs_background": "light"
     },
     "output_type": "display_data"
    }
   ],
   "source": [
    "heartbase[heartbase['Edad']<45].plot.area(stacked=True)"
   ]
  },
  {
   "cell_type": "code",
   "execution_count": 129,
   "metadata": {},
   "outputs": [
    {
     "data": {
      "text/plain": [
       "<AxesSubplot:>"
      ]
     },
     "execution_count": 129,
     "metadata": {},
     "output_type": "execute_result"
    },
    {
     "data": {
      "image/png": "[encoded data removed]",
      "text/plain": [
       "<Figure size 432x288 with 1 Axes>"
      ]
     },
     "metadata": {
      "needs_background": "light"
     },
     "output_type": "display_data"
    }
   ],
   "source": [
    "heartbase[heartbase['Edad']<45].plot.line(stacked=True)"
   ]
  },
  {
   "cell_type": "markdown",
   "metadata": {},
   "source": [
    "### Box plots:"
   ]
  },
  {
   "cell_type": "markdown",
   "metadata": {},
   "source": [
    "- Podemos ver la distribución de las edades para hombres y mujeres."
   ]
  },
  {
   "cell_type": "code",
   "execution_count": 130,
   "metadata": {},
   "outputs": [
    {
     "data": {
      "text/plain": [
       "<AxesSubplot:xlabel='Sexo', ylabel='Edad'>"
      ]
     },
     "execution_count": 130,
     "metadata": {},
     "output_type": "execute_result"
    },
    {
     "data": {
      "image/png": "[encoded data removed]",
      "text/plain": [
       "<Figure size 432x288 with 1 Axes>"
      ]
     },
     "metadata": {
      "needs_background": "light"
     },
     "output_type": "display_data"
    }
   ],
   "source": [
    "sns.boxplot(x='Sexo',y='Edad',data=heartbase)"
   ]
  },
  {
   "cell_type": "markdown",
   "metadata": {},
   "source": [
    "- Violin"
   ]
  },
  {
   "cell_type": "code",
   "execution_count": 131,
   "metadata": {
    "scrolled": true
   },
   "outputs": [
    {
     "data": {
      "text/plain": [
       "<AxesSubplot:xlabel='Sexo', ylabel='Edad'>"
      ]
     },
     "execution_count": 131,
     "metadata": {},
     "output_type": "execute_result"
    },
    {
     "data": {
      "image/png": "[encoded data removed]",
      "text/plain": [
       "<Figure size 432x288 with 1 Axes>"
      ]
     },
     "metadata": {
      "needs_background": "light"
     },
     "output_type": "display_data"
    }
   ],
   "source": [
    "sns.violinplot(x='Sexo',y='Edad',data=heartbase)"
   ]
  },
  {
   "cell_type": "markdown",
   "metadata": {},
   "source": [
    "## 2. [Restaurant Business Rankings 2020](https://www.kaggle.com/michau96/restaurant-business-rankings-2020?select=Future50.csv)"
   ]
  },
  {
   "cell_type": "code",
   "execution_count": 132,
   "metadata": {},
   "outputs": [],
   "source": [
    "import pandas as pd\n",
    "import numpy as np\n",
    "import json\n",
    "\n",
    "#llamamos el archivo de excel\n",
    "comida = pd.read_csv(\"Future50.csv\")"
   ]
  },
  {
   "cell_type": "markdown",
   "metadata": {},
   "source": [
    "### Cambiar el nombre de las columnas\n",
    "- En nuestro caso, modificamos los nombres de las columnas al idioma español"
   ]
  },
  {
   "cell_type": "code",
   "execution_count": 133,
   "metadata": {},
   "outputs": [],
   "source": [
    "comida = comida.rename(columns = {'Rank':'Rango','Restaurant':'Restaurante','Location':'Localizacion','Sales':'Ventas','YOY_Sales':'Incremento_Anual_de_Ventas',\n",
    "                           'Units':'Unidades','YOY_Units':'Incremento_Anual_de_Unidades','Unit_Volume':'Volumen_de_Unidades','Franchising':'Cadena'}) #los nombres de las columnas se modificaron al idioma español"
   ]
  },
  {
   "cell_type": "markdown",
   "metadata": {},
   "source": [
    "Modificar el nombre de las columnas es el único cambio necesario para nuestro análisis, ya que toda la información es importante."
   ]
  },
  {
   "cell_type": "code",
   "execution_count": 134,
   "metadata": {},
   "outputs": [
    {
     "data": {
      "text/html": [
       "<div>\n",
       "<style scoped>\n",
       "    .dataframe tbody tr th:only-of-type {\n",
       "        vertical-align: middle;\n",
       "    }\n",
       "\n",
       "    .dataframe tbody tr th {\n",
       "        vertical-align: top;\n",
       "    }\n",
       "\n",
       "    .dataframe thead th {\n",
       "        text-align: right;\n",
       "    }\n",
       "</style>\n",
       "<table border=\"1\" class=\"dataframe\">\n",
       "  <thead>\n",
       "    <tr style=\"text-align: right;\">\n",
       "      <th></th>\n",
       "      <th>Rango</th>\n",
       "      <th>Restaurante</th>\n",
       "      <th>Localizacion</th>\n",
       "      <th>Ventas</th>\n",
       "      <th>Incremento_Anual_de_Ventas</th>\n",
       "      <th>Unidades</th>\n",
       "      <th>Incremento_Anual_de_Unidades</th>\n",
       "      <th>Volumen_de_Unidades</th>\n",
       "      <th>Cadena</th>\n",
       "    </tr>\n",
       "  </thead>\n",
       "  <tbody>\n",
       "    <tr>\n",
       "      <th>0</th>\n",
       "      <td>1</td>\n",
       "      <td>Evergreens</td>\n",
       "      <td>Seattle, Wash.</td>\n",
       "      <td>24</td>\n",
       "      <td>130.5%</td>\n",
       "      <td>26</td>\n",
       "      <td>116.7%</td>\n",
       "      <td>1150</td>\n",
       "      <td>No</td>\n",
       "    </tr>\n",
       "    <tr>\n",
       "      <th>1</th>\n",
       "      <td>2</td>\n",
       "      <td>Clean Juice</td>\n",
       "      <td>Charlotte, N.C.</td>\n",
       "      <td>44</td>\n",
       "      <td>121.9%</td>\n",
       "      <td>105</td>\n",
       "      <td>94.4%</td>\n",
       "      <td>560</td>\n",
       "      <td>Yes</td>\n",
       "    </tr>\n",
       "    <tr>\n",
       "      <th>2</th>\n",
       "      <td>3</td>\n",
       "      <td>Slapfish</td>\n",
       "      <td>Huntington Beach, Calif.</td>\n",
       "      <td>21</td>\n",
       "      <td>81.0%</td>\n",
       "      <td>21</td>\n",
       "      <td>90.9%</td>\n",
       "      <td>1370</td>\n",
       "      <td>Yes</td>\n",
       "    </tr>\n",
       "    <tr>\n",
       "      <th>3</th>\n",
       "      <td>4</td>\n",
       "      <td>Clean Eatz</td>\n",
       "      <td>Wilmington, N.C.</td>\n",
       "      <td>25</td>\n",
       "      <td>79.7%</td>\n",
       "      <td>46</td>\n",
       "      <td>58.6%</td>\n",
       "      <td>685</td>\n",
       "      <td>Yes</td>\n",
       "    </tr>\n",
       "    <tr>\n",
       "      <th>4</th>\n",
       "      <td>5</td>\n",
       "      <td>Pokeworks</td>\n",
       "      <td>Irvine, Calif.</td>\n",
       "      <td>49</td>\n",
       "      <td>77.1%</td>\n",
       "      <td>50</td>\n",
       "      <td>56.3%</td>\n",
       "      <td>1210</td>\n",
       "      <td>Yes</td>\n",
       "    </tr>\n",
       "    <tr>\n",
       "      <th>5</th>\n",
       "      <td>6</td>\n",
       "      <td>Playa Bowls</td>\n",
       "      <td>Belmar,  N.J.</td>\n",
       "      <td>39</td>\n",
       "      <td>62.9%</td>\n",
       "      <td>76</td>\n",
       "      <td>28.8%</td>\n",
       "      <td>580</td>\n",
       "      <td>Yes</td>\n",
       "    </tr>\n",
       "    <tr>\n",
       "      <th>6</th>\n",
       "      <td>7</td>\n",
       "      <td>The Simple Greek</td>\n",
       "      <td>Blue Bell, Pa.</td>\n",
       "      <td>24</td>\n",
       "      <td>52.5%</td>\n",
       "      <td>36</td>\n",
       "      <td>33.3%</td>\n",
       "      <td>775</td>\n",
       "      <td>Yes</td>\n",
       "    </tr>\n",
       "    <tr>\n",
       "      <th>7</th>\n",
       "      <td>8</td>\n",
       "      <td>Melt Shop</td>\n",
       "      <td>New York, N.Y.</td>\n",
       "      <td>20</td>\n",
       "      <td>39.6%</td>\n",
       "      <td>19</td>\n",
       "      <td>35.7%</td>\n",
       "      <td>1260</td>\n",
       "      <td>Yes</td>\n",
       "    </tr>\n",
       "    <tr>\n",
       "      <th>8</th>\n",
       "      <td>9</td>\n",
       "      <td>Creamistry</td>\n",
       "      <td>Yorba Linda,  Calif.</td>\n",
       "      <td>24</td>\n",
       "      <td>36.8%</td>\n",
       "      <td>60</td>\n",
       "      <td>27.7%</td>\n",
       "      <td>465</td>\n",
       "      <td>Yes</td>\n",
       "    </tr>\n",
       "    <tr>\n",
       "      <th>9</th>\n",
       "      <td>10</td>\n",
       "      <td>Joella's Hot Chicken</td>\n",
       "      <td>Louisville, Ky.</td>\n",
       "      <td>29</td>\n",
       "      <td>35.5%</td>\n",
       "      <td>17</td>\n",
       "      <td>30.8%</td>\n",
       "      <td>1930</td>\n",
       "      <td>No</td>\n",
       "    </tr>\n",
       "    <tr>\n",
       "      <th>10</th>\n",
       "      <td>11</td>\n",
       "      <td>Eggs Up Grill</td>\n",
       "      <td>Spartanburg, S.C.</td>\n",
       "      <td>30</td>\n",
       "      <td>35.4%</td>\n",
       "      <td>41</td>\n",
       "      <td>36.7%</td>\n",
       "      <td>860</td>\n",
       "      <td>Yes</td>\n",
       "    </tr>\n",
       "    <tr>\n",
       "      <th>11</th>\n",
       "      <td>12</td>\n",
       "      <td>Dog Haus</td>\n",
       "      <td>Pasadena, Calif.</td>\n",
       "      <td>39</td>\n",
       "      <td>34.5%</td>\n",
       "      <td>50</td>\n",
       "      <td>42.9%</td>\n",
       "      <td>1200</td>\n",
       "      <td>Yes</td>\n",
       "    </tr>\n",
       "    <tr>\n",
       "      <th>12</th>\n",
       "      <td>13</td>\n",
       "      <td>Teriyaki Madness</td>\n",
       "      <td>Denver, Colo.</td>\n",
       "      <td>41</td>\n",
       "      <td>34.1%</td>\n",
       "      <td>63</td>\n",
       "      <td>65.8%</td>\n",
       "      <td>890</td>\n",
       "      <td>Yes</td>\n",
       "    </tr>\n",
       "    <tr>\n",
       "      <th>13</th>\n",
       "      <td>14</td>\n",
       "      <td>Bluestone Lane</td>\n",
       "      <td>New York, N.Y.</td>\n",
       "      <td>48</td>\n",
       "      <td>33.0%</td>\n",
       "      <td>48</td>\n",
       "      <td>37.1%</td>\n",
       "      <td>1175</td>\n",
       "      <td>No</td>\n",
       "    </tr>\n",
       "    <tr>\n",
       "      <th>14</th>\n",
       "      <td>15</td>\n",
       "      <td>Original ChopShop</td>\n",
       "      <td>Plano, Texas</td>\n",
       "      <td>21</td>\n",
       "      <td>32.5%</td>\n",
       "      <td>12</td>\n",
       "      <td>20.0%</td>\n",
       "      <td>1930</td>\n",
       "      <td>No</td>\n",
       "    </tr>\n",
       "    <tr>\n",
       "      <th>15</th>\n",
       "      <td>16</td>\n",
       "      <td>Rapid Fired Pizza</td>\n",
       "      <td>Kettering, Ohio</td>\n",
       "      <td>24</td>\n",
       "      <td>32.2%</td>\n",
       "      <td>35</td>\n",
       "      <td>29.6%</td>\n",
       "      <td>780</td>\n",
       "      <td>Yes</td>\n",
       "    </tr>\n",
       "    <tr>\n",
       "      <th>16</th>\n",
       "      <td>17</td>\n",
       "      <td>Ike's Love &amp; Sandwiches</td>\n",
       "      <td>San Francisco, Calif.</td>\n",
       "      <td>44</td>\n",
       "      <td>30.8%</td>\n",
       "      <td>71</td>\n",
       "      <td>29.1%</td>\n",
       "      <td>700</td>\n",
       "      <td>Yes</td>\n",
       "    </tr>\n",
       "    <tr>\n",
       "      <th>17</th>\n",
       "      <td>18</td>\n",
       "      <td>Vitality Bowls</td>\n",
       "      <td>San Ramon, Calif.</td>\n",
       "      <td>37</td>\n",
       "      <td>30.1%</td>\n",
       "      <td>77</td>\n",
       "      <td>24.2%</td>\n",
       "      <td>535</td>\n",
       "      <td>Yes</td>\n",
       "    </tr>\n",
       "    <tr>\n",
       "      <th>18</th>\n",
       "      <td>19</td>\n",
       "      <td>Hawkers Asian Street Fare</td>\n",
       "      <td>Orlando, Fla.</td>\n",
       "      <td>22</td>\n",
       "      <td>30.0%</td>\n",
       "      <td>7</td>\n",
       "      <td>40.0%</td>\n",
       "      <td>3800</td>\n",
       "      <td>No</td>\n",
       "    </tr>\n",
       "    <tr>\n",
       "      <th>19</th>\n",
       "      <td>20</td>\n",
       "      <td>Maple Street Biscuit Co.</td>\n",
       "      <td>Orange Park, Fla.</td>\n",
       "      <td>39</td>\n",
       "      <td>28.9%</td>\n",
       "      <td>33</td>\n",
       "      <td>10.0%</td>\n",
       "      <td>1260</td>\n",
       "      <td>Yes</td>\n",
       "    </tr>\n",
       "    <tr>\n",
       "      <th>20</th>\n",
       "      <td>21</td>\n",
       "      <td>Bulla Gastrobar</td>\n",
       "      <td>Doral, Fla.</td>\n",
       "      <td>32</td>\n",
       "      <td>28.2%</td>\n",
       "      <td>8</td>\n",
       "      <td>14.3%</td>\n",
       "      <td>4300</td>\n",
       "      <td>No</td>\n",
       "    </tr>\n",
       "    <tr>\n",
       "      <th>21</th>\n",
       "      <td>22</td>\n",
       "      <td>Duck Donuts</td>\n",
       "      <td>Mechanicsburg, Pa.</td>\n",
       "      <td>44</td>\n",
       "      <td>28.0%</td>\n",
       "      <td>90</td>\n",
       "      <td>16.9%</td>\n",
       "      <td>530</td>\n",
       "      <td>Yes</td>\n",
       "    </tr>\n",
       "    <tr>\n",
       "      <th>22</th>\n",
       "      <td>23</td>\n",
       "      <td>The Little Beet</td>\n",
       "      <td>New York, N.Y.</td>\n",
       "      <td>23</td>\n",
       "      <td>26.5%</td>\n",
       "      <td>12</td>\n",
       "      <td>33.3%</td>\n",
       "      <td>2230</td>\n",
       "      <td>No</td>\n",
       "    </tr>\n",
       "    <tr>\n",
       "      <th>23</th>\n",
       "      <td>24</td>\n",
       "      <td>Joe &amp; The Juice</td>\n",
       "      <td>New York, N.Y.</td>\n",
       "      <td>47</td>\n",
       "      <td>25.9%</td>\n",
       "      <td>69</td>\n",
       "      <td>25.5%</td>\n",
       "      <td>760</td>\n",
       "      <td>Yes</td>\n",
       "    </tr>\n",
       "    <tr>\n",
       "      <th>24</th>\n",
       "      <td>25</td>\n",
       "      <td>By Chloe</td>\n",
       "      <td>New York, N.Y.</td>\n",
       "      <td>37</td>\n",
       "      <td>25.6%</td>\n",
       "      <td>14</td>\n",
       "      <td>7.7%</td>\n",
       "      <td>2800</td>\n",
       "      <td>No</td>\n",
       "    </tr>\n",
       "    <tr>\n",
       "      <th>25</th>\n",
       "      <td>26</td>\n",
       "      <td>Sugarfire Smokehouse</td>\n",
       "      <td>Olivette, Mo.</td>\n",
       "      <td>39</td>\n",
       "      <td>25.4%</td>\n",
       "      <td>15</td>\n",
       "      <td>15.4%</td>\n",
       "      <td>2820</td>\n",
       "      <td>No</td>\n",
       "    </tr>\n",
       "    <tr>\n",
       "      <th>26</th>\n",
       "      <td>27</td>\n",
       "      <td>Bibibop Asian Grill</td>\n",
       "      <td>Columbus, Ohio</td>\n",
       "      <td>44</td>\n",
       "      <td>24.6%</td>\n",
       "      <td>37</td>\n",
       "      <td>23.3%</td>\n",
       "      <td>1330</td>\n",
       "      <td>No</td>\n",
       "    </tr>\n",
       "    <tr>\n",
       "      <th>27</th>\n",
       "      <td>28</td>\n",
       "      <td>Bubbakoo's Burritos</td>\n",
       "      <td>Wall Township, N.J.</td>\n",
       "      <td>28</td>\n",
       "      <td>24.3%</td>\n",
       "      <td>31</td>\n",
       "      <td>14.8%</td>\n",
       "      <td>970</td>\n",
       "      <td>Yes</td>\n",
       "    </tr>\n",
       "    <tr>\n",
       "      <th>28</th>\n",
       "      <td>29</td>\n",
       "      <td>Dos Toros Taqueria</td>\n",
       "      <td>New York, N.Y.</td>\n",
       "      <td>28</td>\n",
       "      <td>24.0%</td>\n",
       "      <td>22</td>\n",
       "      <td>10.0%</td>\n",
       "      <td>1375</td>\n",
       "      <td>No</td>\n",
       "    </tr>\n",
       "    <tr>\n",
       "      <th>29</th>\n",
       "      <td>30</td>\n",
       "      <td>The Pizza Press</td>\n",
       "      <td>Anaheim, Calif.</td>\n",
       "      <td>27</td>\n",
       "      <td>23.7%</td>\n",
       "      <td>27</td>\n",
       "      <td>22.7%</td>\n",
       "      <td>1130</td>\n",
       "      <td>Yes</td>\n",
       "    </tr>\n",
       "    <tr>\n",
       "      <th>30</th>\n",
       "      <td>31</td>\n",
       "      <td>The Lost Cajun</td>\n",
       "      <td>Frisco, Texas</td>\n",
       "      <td>20</td>\n",
       "      <td>23.0%</td>\n",
       "      <td>26</td>\n",
       "      <td>4.0%</td>\n",
       "      <td>785</td>\n",
       "      <td>Yes</td>\n",
       "    </tr>\n",
       "    <tr>\n",
       "      <th>31</th>\n",
       "      <td>32</td>\n",
       "      <td>Just Salad</td>\n",
       "      <td>New York, N.Y.</td>\n",
       "      <td>42</td>\n",
       "      <td>22.7%</td>\n",
       "      <td>38</td>\n",
       "      <td>26.7%</td>\n",
       "      <td>1240</td>\n",
       "      <td>No</td>\n",
       "    </tr>\n",
       "    <tr>\n",
       "      <th>32</th>\n",
       "      <td>33</td>\n",
       "      <td>Jeni's Splendid Ice Creams</td>\n",
       "      <td>Columbus, Ohio</td>\n",
       "      <td>42</td>\n",
       "      <td>22.4%</td>\n",
       "      <td>44</td>\n",
       "      <td>22.2%</td>\n",
       "      <td>1050</td>\n",
       "      <td>No</td>\n",
       "    </tr>\n",
       "    <tr>\n",
       "      <th>33</th>\n",
       "      <td>34</td>\n",
       "      <td>Boqueria</td>\n",
       "      <td>New York, N.Y.</td>\n",
       "      <td>27</td>\n",
       "      <td>22.0%</td>\n",
       "      <td>7</td>\n",
       "      <td>16.7%</td>\n",
       "      <td>4260</td>\n",
       "      <td>No</td>\n",
       "    </tr>\n",
       "    <tr>\n",
       "      <th>34</th>\n",
       "      <td>35</td>\n",
       "      <td>Quickway Japanese Hibachi</td>\n",
       "      <td>Fairfax, Va.</td>\n",
       "      <td>22</td>\n",
       "      <td>21.4%</td>\n",
       "      <td>25</td>\n",
       "      <td>19.0%</td>\n",
       "      <td>985</td>\n",
       "      <td>Yes</td>\n",
       "    </tr>\n",
       "    <tr>\n",
       "      <th>35</th>\n",
       "      <td>36</td>\n",
       "      <td>Surcheros</td>\n",
       "      <td>Douglas, Ga.</td>\n",
       "      <td>22</td>\n",
       "      <td>21.3%</td>\n",
       "      <td>20</td>\n",
       "      <td>17.6%</td>\n",
       "      <td>1230</td>\n",
       "      <td>Yes</td>\n",
       "    </tr>\n",
       "    <tr>\n",
       "      <th>36</th>\n",
       "      <td>37</td>\n",
       "      <td>Famous Toastery</td>\n",
       "      <td>Charlotte, N.C.</td>\n",
       "      <td>40</td>\n",
       "      <td>21.2%</td>\n",
       "      <td>27</td>\n",
       "      <td>8.0%</td>\n",
       "      <td>1540</td>\n",
       "      <td>Yes</td>\n",
       "    </tr>\n",
       "    <tr>\n",
       "      <th>37</th>\n",
       "      <td>38</td>\n",
       "      <td>Culinary Dropout</td>\n",
       "      <td>Scottsdale, Ariz.</td>\n",
       "      <td>20</td>\n",
       "      <td>20.8%</td>\n",
       "      <td>7</td>\n",
       "      <td>16.7%</td>\n",
       "      <td>3120</td>\n",
       "      <td>No</td>\n",
       "    </tr>\n",
       "    <tr>\n",
       "      <th>38</th>\n",
       "      <td>39</td>\n",
       "      <td>Condado Tacos</td>\n",
       "      <td>Columbus, Ohio</td>\n",
       "      <td>38</td>\n",
       "      <td>19.9%</td>\n",
       "      <td>15</td>\n",
       "      <td>15.4%</td>\n",
       "      <td>2755</td>\n",
       "      <td>No</td>\n",
       "    </tr>\n",
       "    <tr>\n",
       "      <th>39</th>\n",
       "      <td>40</td>\n",
       "      <td>The Flying Biscuit Cafe</td>\n",
       "      <td>Atlanta, Ga.</td>\n",
       "      <td>29</td>\n",
       "      <td>19.5%</td>\n",
       "      <td>21</td>\n",
       "      <td>16.7%</td>\n",
       "      <td>1510</td>\n",
       "      <td>Yes</td>\n",
       "    </tr>\n",
       "    <tr>\n",
       "      <th>40</th>\n",
       "      <td>41</td>\n",
       "      <td>Blue Sushi Sake Grill</td>\n",
       "      <td>Omaha, Neb.</td>\n",
       "      <td>49</td>\n",
       "      <td>19.5%</td>\n",
       "      <td>14</td>\n",
       "      <td>16.7%</td>\n",
       "      <td>3500</td>\n",
       "      <td>No</td>\n",
       "    </tr>\n",
       "    <tr>\n",
       "      <th>41</th>\n",
       "      <td>42</td>\n",
       "      <td>The Human Bean</td>\n",
       "      <td>Medford, Ore.</td>\n",
       "      <td>47</td>\n",
       "      <td>19.0%</td>\n",
       "      <td>97</td>\n",
       "      <td>19.8%</td>\n",
       "      <td>535</td>\n",
       "      <td>Yes</td>\n",
       "    </tr>\n",
       "    <tr>\n",
       "      <th>42</th>\n",
       "      <td>43</td>\n",
       "      <td>Spitz Mediterranean Street Food</td>\n",
       "      <td>Los Angeles, Calif.</td>\n",
       "      <td>28</td>\n",
       "      <td>18.8%</td>\n",
       "      <td>11</td>\n",
       "      <td>10.0%</td>\n",
       "      <td>2700</td>\n",
       "      <td>No</td>\n",
       "    </tr>\n",
       "    <tr>\n",
       "      <th>43</th>\n",
       "      <td>44</td>\n",
       "      <td>Tacos 4 Life</td>\n",
       "      <td>Conway, Ark.</td>\n",
       "      <td>25</td>\n",
       "      <td>18.4%</td>\n",
       "      <td>16</td>\n",
       "      <td>6.7%</td>\n",
       "      <td>1620</td>\n",
       "      <td>Yes</td>\n",
       "    </tr>\n",
       "    <tr>\n",
       "      <th>44</th>\n",
       "      <td>45</td>\n",
       "      <td>Pita Mediterranean Street Food</td>\n",
       "      <td>Fairburn, Ga.</td>\n",
       "      <td>38</td>\n",
       "      <td>17.8%</td>\n",
       "      <td>32</td>\n",
       "      <td>10.3%</td>\n",
       "      <td>1260</td>\n",
       "      <td>Yes</td>\n",
       "    </tr>\n",
       "    <tr>\n",
       "      <th>45</th>\n",
       "      <td>46</td>\n",
       "      <td>LA Crawfish</td>\n",
       "      <td>McAllen, Texas</td>\n",
       "      <td>48</td>\n",
       "      <td>17.6%</td>\n",
       "      <td>25</td>\n",
       "      <td>13.6%</td>\n",
       "      <td>2050</td>\n",
       "      <td>Yes</td>\n",
       "    </tr>\n",
       "    <tr>\n",
       "      <th>46</th>\n",
       "      <td>47</td>\n",
       "      <td>&amp;pizza</td>\n",
       "      <td>Washington, D.C.</td>\n",
       "      <td>45</td>\n",
       "      <td>17.1%</td>\n",
       "      <td>35</td>\n",
       "      <td>9.4%</td>\n",
       "      <td>1350</td>\n",
       "      <td>No</td>\n",
       "    </tr>\n",
       "    <tr>\n",
       "      <th>47</th>\n",
       "      <td>48</td>\n",
       "      <td>Super Duper Burgers</td>\n",
       "      <td>San Francisco, Calif.</td>\n",
       "      <td>39</td>\n",
       "      <td>16.9%</td>\n",
       "      <td>16</td>\n",
       "      <td>14.3%</td>\n",
       "      <td>2630</td>\n",
       "      <td>No</td>\n",
       "    </tr>\n",
       "    <tr>\n",
       "      <th>48</th>\n",
       "      <td>49</td>\n",
       "      <td>StoneFire Grill</td>\n",
       "      <td>Agoura Hills, Calif.</td>\n",
       "      <td>31</td>\n",
       "      <td>16.0%</td>\n",
       "      <td>13</td>\n",
       "      <td>8.3%</td>\n",
       "      <td>2550</td>\n",
       "      <td>No</td>\n",
       "    </tr>\n",
       "    <tr>\n",
       "      <th>49</th>\n",
       "      <td>50</td>\n",
       "      <td>Gus's World Famous Fried Chicken</td>\n",
       "      <td>Memphis, Tenn.</td>\n",
       "      <td>44</td>\n",
       "      <td>14.4%</td>\n",
       "      <td>28</td>\n",
       "      <td>7.7%</td>\n",
       "      <td>1600</td>\n",
       "      <td>Yes</td>\n",
       "    </tr>\n",
       "  </tbody>\n",
       "</table>\n",
       "</div>"
      ],
      "text/plain": [
       "    Rango                       Restaurante              Localizacion  Ventas  \\\n",
       "0       1                        Evergreens            Seattle, Wash.      24   \n",
       "1       2                       Clean Juice           Charlotte, N.C.      44   \n",
       "2       3                          Slapfish  Huntington Beach, Calif.      21   \n",
       "3       4                        Clean Eatz          Wilmington, N.C.      25   \n",
       "4       5                         Pokeworks            Irvine, Calif.      49   \n",
       "5       6                       Playa Bowls             Belmar,  N.J.      39   \n",
       "6       7                  The Simple Greek            Blue Bell, Pa.      24   \n",
       "7       8                         Melt Shop            New York, N.Y.      20   \n",
       "8       9                        Creamistry      Yorba Linda,  Calif.      24   \n",
       "9      10              Joella's Hot Chicken           Louisville, Ky.      29   \n",
       "10     11                     Eggs Up Grill         Spartanburg, S.C.      30   \n",
       "11     12                          Dog Haus          Pasadena, Calif.      39   \n",
       "12     13                  Teriyaki Madness             Denver, Colo.      41   \n",
       "13     14                    Bluestone Lane            New York, N.Y.      48   \n",
       "14     15                 Original ChopShop              Plano, Texas      21   \n",
       "15     16                 Rapid Fired Pizza           Kettering, Ohio      24   \n",
       "16     17           Ike's Love & Sandwiches     San Francisco, Calif.      44   \n",
       "17     18                    Vitality Bowls         San Ramon, Calif.      37   \n",
       "18     19         Hawkers Asian Street Fare             Orlando, Fla.      22   \n",
       "19     20          Maple Street Biscuit Co.         Orange Park, Fla.      39   \n",
       "20     21                   Bulla Gastrobar               Doral, Fla.      32   \n",
       "21     22                       Duck Donuts        Mechanicsburg, Pa.      44   \n",
       "22     23                   The Little Beet            New York, N.Y.      23   \n",
       "23     24                   Joe & The Juice            New York, N.Y.      47   \n",
       "24     25                          By Chloe            New York, N.Y.      37   \n",
       "25     26              Sugarfire Smokehouse             Olivette, Mo.      39   \n",
       "26     27               Bibibop Asian Grill            Columbus, Ohio      44   \n",
       "27     28               Bubbakoo's Burritos       Wall Township, N.J.      28   \n",
       "28     29                Dos Toros Taqueria            New York, N.Y.      28   \n",
       "29     30                   The Pizza Press           Anaheim, Calif.      27   \n",
       "30     31                    The Lost Cajun             Frisco, Texas      20   \n",
       "31     32                        Just Salad            New York, N.Y.      42   \n",
       "32     33        Jeni's Splendid Ice Creams            Columbus, Ohio      42   \n",
       "33     34                          Boqueria            New York, N.Y.      27   \n",
       "34     35         Quickway Japanese Hibachi              Fairfax, Va.      22   \n",
       "35     36                         Surcheros              Douglas, Ga.      22   \n",
       "36     37                   Famous Toastery           Charlotte, N.C.      40   \n",
       "37     38                  Culinary Dropout         Scottsdale, Ariz.      20   \n",
       "38     39                     Condado Tacos            Columbus, Ohio      38   \n",
       "39     40           The Flying Biscuit Cafe              Atlanta, Ga.      29   \n",
       "40     41             Blue Sushi Sake Grill               Omaha, Neb.      49   \n",
       "41     42                    The Human Bean             Medford, Ore.      47   \n",
       "42     43   Spitz Mediterranean Street Food       Los Angeles, Calif.      28   \n",
       "43     44                      Tacos 4 Life              Conway, Ark.      25   \n",
       "44     45    Pita Mediterranean Street Food             Fairburn, Ga.      38   \n",
       "45     46                       LA Crawfish            McAllen, Texas      48   \n",
       "46     47                            &pizza          Washington, D.C.      45   \n",
       "47     48               Super Duper Burgers     San Francisco, Calif.      39   \n",
       "48     49                   StoneFire Grill      Agoura Hills, Calif.      31   \n",
       "49     50  Gus's World Famous Fried Chicken            Memphis, Tenn.      44   \n",
       "\n",
       "   Incremento_Anual_de_Ventas  Unidades Incremento_Anual_de_Unidades  \\\n",
       "0                      130.5%        26                       116.7%   \n",
       "1                      121.9%       105                        94.4%   \n",
       "2                       81.0%        21                        90.9%   \n",
       "3                       79.7%        46                        58.6%   \n",
       "4                       77.1%        50                        56.3%   \n",
       "5                       62.9%        76                        28.8%   \n",
       "6                       52.5%        36                        33.3%   \n",
       "7                       39.6%        19                        35.7%   \n",
       "8                       36.8%        60                        27.7%   \n",
       "9                       35.5%        17                        30.8%   \n",
       "10                      35.4%        41                        36.7%   \n",
       "11                      34.5%        50                        42.9%   \n",
       "12                      34.1%        63                        65.8%   \n",
       "13                      33.0%        48                        37.1%   \n",
       "14                      32.5%        12                        20.0%   \n",
       "15                      32.2%        35                        29.6%   \n",
       "16                      30.8%        71                        29.1%   \n",
       "17                      30.1%        77                        24.2%   \n",
       "18                      30.0%         7                        40.0%   \n",
       "19                      28.9%        33                        10.0%   \n",
       "20                      28.2%         8                        14.3%   \n",
       "21                      28.0%        90                        16.9%   \n",
       "22                      26.5%        12                        33.3%   \n",
       "23                      25.9%        69                        25.5%   \n",
       "24                      25.6%        14                         7.7%   \n",
       "25                      25.4%        15                        15.4%   \n",
       "26                      24.6%        37                        23.3%   \n",
       "27                      24.3%        31                        14.8%   \n",
       "28                      24.0%        22                        10.0%   \n",
       "29                      23.7%        27                        22.7%   \n",
       "30                      23.0%        26                         4.0%   \n",
       "31                      22.7%        38                        26.7%   \n",
       "32                      22.4%        44                        22.2%   \n",
       "33                      22.0%         7                        16.7%   \n",
       "34                      21.4%        25                        19.0%   \n",
       "35                      21.3%        20                        17.6%   \n",
       "36                      21.2%        27                         8.0%   \n",
       "37                      20.8%         7                        16.7%   \n",
       "38                      19.9%        15                        15.4%   \n",
       "39                      19.5%        21                        16.7%   \n",
       "40                      19.5%        14                        16.7%   \n",
       "41                      19.0%        97                        19.8%   \n",
       "42                      18.8%        11                        10.0%   \n",
       "43                      18.4%        16                         6.7%   \n",
       "44                      17.8%        32                        10.3%   \n",
       "45                      17.6%        25                        13.6%   \n",
       "46                      17.1%        35                         9.4%   \n",
       "47                      16.9%        16                        14.3%   \n",
       "48                      16.0%        13                         8.3%   \n",
       "49                      14.4%        28                         7.7%   \n",
       "\n",
       "    Volumen_de_Unidades Cadena  \n",
       "0                  1150     No  \n",
       "1                   560    Yes  \n",
       "2                  1370    Yes  \n",
       "3                   685    Yes  \n",
       "4                  1210    Yes  \n",
       "5                   580    Yes  \n",
       "6                   775    Yes  \n",
       "7                  1260    Yes  \n",
       "8                   465    Yes  \n",
       "9                  1930     No  \n",
       "10                  860    Yes  \n",
       "11                 1200    Yes  \n",
       "12                  890    Yes  \n",
       "13                 1175     No  \n",
       "14                 1930     No  \n",
       "15                  780    Yes  \n",
       "16                  700    Yes  \n",
       "17                  535    Yes  \n",
       "18                 3800     No  \n",
       "19                 1260    Yes  \n",
       "20                 4300     No  \n",
       "21                  530    Yes  \n",
       "22                 2230     No  \n",
       "23                  760    Yes  \n",
       "24                 2800     No  \n",
       "25                 2820     No  \n",
       "26                 1330     No  \n",
       "27                  970    Yes  \n",
       "28                 1375     No  \n",
       "29                 1130    Yes  \n",
       "30                  785    Yes  \n",
       "31                 1240     No  \n",
       "32                 1050     No  \n",
       "33                 4260     No  \n",
       "34                  985    Yes  \n",
       "35                 1230    Yes  \n",
       "36                 1540    Yes  \n",
       "37                 3120     No  \n",
       "38                 2755     No  \n",
       "39                 1510    Yes  \n",
       "40                 3500     No  \n",
       "41                  535    Yes  \n",
       "42                 2700     No  \n",
       "43                 1620    Yes  \n",
       "44                 1260    Yes  \n",
       "45                 2050    Yes  \n",
       "46                 1350     No  \n",
       "47                 2630     No  \n",
       "48                 2550     No  \n",
       "49                 1600    Yes  "
      ]
     },
     "execution_count": 134,
     "metadata": {},
     "output_type": "execute_result"
    }
   ],
   "source": [
    "comida"
   ]
  },
  {
   "cell_type": "markdown",
   "metadata": {},
   "source": [
    "### Información estadística básica\n",
    "A continuación ingresaremos algunas de las opciones que maneja Pandas para la estadística básica."
   ]
  },
  {
   "cell_type": "markdown",
   "metadata": {},
   "source": [
    "- La suma de todas las ventas."
   ]
  },
  {
   "cell_type": "code",
   "execution_count": 135,
   "metadata": {},
   "outputs": [
    {
     "data": {
      "text/plain": [
       "1689"
      ]
     },
     "execution_count": 135,
     "metadata": {},
     "output_type": "execute_result"
    }
   ],
   "source": [
    "comida['Ventas'].sum()"
   ]
  },
  {
   "cell_type": "markdown",
   "metadata": {},
   "source": [
    "- El promedio de unidades."
   ]
  },
  {
   "cell_type": "code",
   "execution_count": 136,
   "metadata": {},
   "outputs": [
    {
     "data": {
      "text/plain": [
       "34.7"
      ]
     },
     "execution_count": 136,
     "metadata": {},
     "output_type": "execute_result"
    }
   ],
   "source": [
    "comida['Unidades'].mean()"
   ]
  },
  {
   "cell_type": "markdown",
   "metadata": {},
   "source": [
    "- Resumen estadístico sobre el incremento anual de ventas."
   ]
  },
  {
   "cell_type": "code",
   "execution_count": 137,
   "metadata": {},
   "outputs": [
    {
     "data": {
      "text/plain": [
       "count        50\n",
       "unique       49\n",
       "top       19.5%\n",
       "freq          2\n",
       "Name: Incremento_Anual_de_Ventas, dtype: object"
      ]
     },
     "execution_count": 137,
     "metadata": {},
     "output_type": "execute_result"
    }
   ],
   "source": [
    "comida['Incremento_Anual_de_Ventas'].describe()"
   ]
  },
  {
   "cell_type": "markdown",
   "metadata": {},
   "source": [
    "- Número de restaurantes."
   ]
  },
  {
   "cell_type": "code",
   "execution_count": 138,
   "metadata": {},
   "outputs": [
    {
     "data": {
      "text/plain": [
       "50"
      ]
     },
     "execution_count": 138,
     "metadata": {},
     "output_type": "execute_result"
    }
   ],
   "source": [
    "comida['Restaurante'].count()"
   ]
  },
  {
   "cell_type": "markdown",
   "metadata": {},
   "source": [
    "- Cantidad mínima del volumen de unidades."
   ]
  },
  {
   "cell_type": "code",
   "execution_count": 139,
   "metadata": {},
   "outputs": [
    {
     "data": {
      "text/plain": [
       "465"
      ]
     },
     "execution_count": 139,
     "metadata": {},
     "output_type": "execute_result"
    }
   ],
   "source": [
    "comida['Volumen_de_Unidades'].min()"
   ]
  },
  {
   "cell_type": "markdown",
   "metadata": {},
   "source": [
    "- Cantidad máxima del volumen de unidades."
   ]
  },
  {
   "cell_type": "code",
   "execution_count": 140,
   "metadata": {},
   "outputs": [
    {
     "data": {
      "text/plain": [
       "4300"
      ]
     },
     "execution_count": 140,
     "metadata": {},
     "output_type": "execute_result"
    }
   ],
   "source": [
    "comida['Volumen_de_Unidades'].max()"
   ]
  },
  {
   "cell_type": "markdown",
   "metadata": {},
   "source": [
    "- Mediana de las ventas."
   ]
  },
  {
   "cell_type": "code",
   "execution_count": 141,
   "metadata": {},
   "outputs": [
    {
     "data": {
      "text/plain": [
       "34.5"
      ]
     },
     "execution_count": 141,
     "metadata": {},
     "output_type": "execute_result"
    }
   ],
   "source": [
    "comida['Ventas'].median()"
   ]
  },
  {
   "cell_type": "markdown",
   "metadata": {},
   "source": [
    "- Varianza de las unidades."
   ]
  },
  {
   "cell_type": "code",
   "execution_count": 142,
   "metadata": {},
   "outputs": [
    {
     "data": {
      "text/plain": [
       "601.6020408163266"
      ]
     },
     "execution_count": 142,
     "metadata": {},
     "output_type": "execute_result"
    }
   ],
   "source": [
    "comida['Unidades'].var()"
   ]
  },
  {
   "cell_type": "markdown",
   "metadata": {},
   "source": [
    "- Desviación estándar de las unidades."
   ]
  },
  {
   "cell_type": "code",
   "execution_count": 143,
   "metadata": {},
   "outputs": [
    {
     "data": {
      "text/plain": [
       "24.527577149329826"
      ]
     },
     "execution_count": 143,
     "metadata": {},
     "output_type": "execute_result"
    }
   ],
   "source": [
    "comida['Unidades'].std()"
   ]
  },
  {
   "cell_type": "markdown",
   "metadata": {},
   "source": [
    "- Correlación de la base de datos."
   ]
  },
  {
   "cell_type": "code",
   "execution_count": 144,
   "metadata": {},
   "outputs": [
    {
     "data": {
      "text/html": [
       "<div>\n",
       "<style scoped>\n",
       "    .dataframe tbody tr th:only-of-type {\n",
       "        vertical-align: middle;\n",
       "    }\n",
       "\n",
       "    .dataframe tbody tr th {\n",
       "        vertical-align: top;\n",
       "    }\n",
       "\n",
       "    .dataframe thead th {\n",
       "        text-align: right;\n",
       "    }\n",
       "</style>\n",
       "<table border=\"1\" class=\"dataframe\">\n",
       "  <thead>\n",
       "    <tr style=\"text-align: right;\">\n",
       "      <th></th>\n",
       "      <th>Rango</th>\n",
       "      <th>Ventas</th>\n",
       "      <th>Unidades</th>\n",
       "      <th>Volumen_de_Unidades</th>\n",
       "    </tr>\n",
       "  </thead>\n",
       "  <tbody>\n",
       "    <tr>\n",
       "      <th>Rango</th>\n",
       "      <td>1.000000</td>\n",
       "      <td>0.187535</td>\n",
       "      <td>-0.358137</td>\n",
       "      <td>0.359759</td>\n",
       "    </tr>\n",
       "    <tr>\n",
       "      <th>Ventas</th>\n",
       "      <td>0.187535</td>\n",
       "      <td>1.000000</td>\n",
       "      <td>0.504153</td>\n",
       "      <td>-0.117048</td>\n",
       "    </tr>\n",
       "    <tr>\n",
       "      <th>Unidades</th>\n",
       "      <td>-0.358137</td>\n",
       "      <td>0.504153</td>\n",
       "      <td>1.000000</td>\n",
       "      <td>-0.712994</td>\n",
       "    </tr>\n",
       "    <tr>\n",
       "      <th>Volumen_de_Unidades</th>\n",
       "      <td>0.359759</td>\n",
       "      <td>-0.117048</td>\n",
       "      <td>-0.712994</td>\n",
       "      <td>1.000000</td>\n",
       "    </tr>\n",
       "  </tbody>\n",
       "</table>\n",
       "</div>"
      ],
      "text/plain": [
       "                        Rango    Ventas  Unidades  Volumen_de_Unidades\n",
       "Rango                1.000000  0.187535 -0.358137             0.359759\n",
       "Ventas               0.187535  1.000000  0.504153            -0.117048\n",
       "Unidades            -0.358137  0.504153  1.000000            -0.712994\n",
       "Volumen_de_Unidades  0.359759 -0.117048 -0.712994             1.000000"
      ]
     },
     "execution_count": 144,
     "metadata": {},
     "output_type": "execute_result"
    }
   ],
   "source": [
    "comida.corr()"
   ]
  },
  {
   "cell_type": "markdown",
   "metadata": {},
   "source": [
    "- Covarianza de los datos."
   ]
  },
  {
   "cell_type": "code",
   "execution_count": 145,
   "metadata": {},
   "outputs": [
    {
     "data": {
      "text/html": [
       "<div>\n",
       "<style scoped>\n",
       "    .dataframe tbody tr th:only-of-type {\n",
       "        vertical-align: middle;\n",
       "    }\n",
       "\n",
       "    .dataframe tbody tr th {\n",
       "        vertical-align: top;\n",
       "    }\n",
       "\n",
       "    .dataframe thead th {\n",
       "        text-align: right;\n",
       "    }\n",
       "</style>\n",
       "<table border=\"1\" class=\"dataframe\">\n",
       "  <thead>\n",
       "    <tr style=\"text-align: right;\">\n",
       "      <th></th>\n",
       "      <th>Rango</th>\n",
       "      <th>Ventas</th>\n",
       "      <th>Unidades</th>\n",
       "      <th>Volumen_de_Unidades</th>\n",
       "    </tr>\n",
       "  </thead>\n",
       "  <tbody>\n",
       "    <tr>\n",
       "      <th>Rango</th>\n",
       "      <td>212.500000</td>\n",
       "      <td>26.234694</td>\n",
       "      <td>-128.051020</td>\n",
       "      <td>5216.428571</td>\n",
       "    </tr>\n",
       "    <tr>\n",
       "      <th>Ventas</th>\n",
       "      <td>26.234694</td>\n",
       "      <td>92.093469</td>\n",
       "      <td>118.667347</td>\n",
       "      <td>-1117.273469</td>\n",
       "    </tr>\n",
       "    <tr>\n",
       "      <th>Unidades</th>\n",
       "      <td>-128.051020</td>\n",
       "      <td>118.667347</td>\n",
       "      <td>601.602041</td>\n",
       "      <td>-17394.918367</td>\n",
       "    </tr>\n",
       "    <tr>\n",
       "      <th>Volumen_de_Unidades</th>\n",
       "      <td>5216.428571</td>\n",
       "      <td>-1117.273469</td>\n",
       "      <td>-17394.918367</td>\n",
       "      <td>989381.877551</td>\n",
       "    </tr>\n",
       "  </tbody>\n",
       "</table>\n",
       "</div>"
      ],
      "text/plain": [
       "                           Rango       Ventas      Unidades  \\\n",
       "Rango                 212.500000    26.234694   -128.051020   \n",
       "Ventas                 26.234694    92.093469    118.667347   \n",
       "Unidades             -128.051020   118.667347    601.602041   \n",
       "Volumen_de_Unidades  5216.428571 -1117.273469 -17394.918367   \n",
       "\n",
       "                     Volumen_de_Unidades  \n",
       "Rango                        5216.428571  \n",
       "Ventas                      -1117.273469  \n",
       "Unidades                   -17394.918367  \n",
       "Volumen_de_Unidades        989381.877551  "
      ]
     },
     "execution_count": 145,
     "metadata": {},
     "output_type": "execute_result"
    }
   ],
   "source": [
    "comida.cov()"
   ]
  },
  {
   "cell_type": "markdown",
   "metadata": {},
   "source": [
    "### Gráficos\n",
    "Importamos librerias necesarias."
   ]
  },
  {
   "cell_type": "code",
   "execution_count": 146,
   "metadata": {},
   "outputs": [],
   "source": [
    "import seaborn as sns\n",
    "import matplotlib as plt\n",
    "%matplotlib inline"
   ]
  },
  {
   "cell_type": "markdown",
   "metadata": {},
   "source": [
    "### Gráfica de barras:"
   ]
  },
  {
   "cell_type": "markdown",
   "metadata": {},
   "source": [
    "- Las 10 mayores cantidades de restaurantes con más volumen de unidades."
   ]
  },
  {
   "cell_type": "code",
   "execution_count": 147,
   "metadata": {},
   "outputs": [
    {
     "data": {
      "text/plain": [
       "<AxesSubplot:>"
      ]
     },
     "execution_count": 147,
     "metadata": {},
     "output_type": "execute_result"
    },
    {
     "data": {
      "image/png": "[encoded data removed]",
      "text/plain": [
       "<Figure size 432x288 with 1 Axes>"
      ]
     },
     "metadata": {
      "needs_background": "light"
     },
     "output_type": "display_data"
    }
   ],
   "source": [
    "comida['Volumen_de_Unidades'].value_counts().head(10).plot.bar()"
   ]
  },
  {
   "cell_type": "markdown",
   "metadata": {},
   "source": [
    "### Gráfica de lineas:"
   ]
  },
  {
   "cell_type": "markdown",
   "metadata": {},
   "source": [
    "- Observamos frecuencias de unidades que poseen unidades."
   ]
  },
  {
   "cell_type": "code",
   "execution_count": 148,
   "metadata": {},
   "outputs": [
    {
     "data": {
      "text/plain": [
       "<AxesSubplot:>"
      ]
     },
     "execution_count": 148,
     "metadata": {},
     "output_type": "execute_result"
    },
    {
     "data": {
      "image/png": "[encoded data removed]",
      "text/plain": [
       "<Figure size 432x288 with 1 Axes>"
      ]
     },
     "metadata": {
      "needs_background": "light"
     },
     "output_type": "display_data"
    }
   ],
   "source": [
    "comida['Unidades'].value_counts().sort_index().plot.line()"
   ]
  },
  {
   "cell_type": "markdown",
   "metadata": {},
   "source": [
    "- Área"
   ]
  },
  {
   "cell_type": "code",
   "execution_count": 149,
   "metadata": {},
   "outputs": [
    {
     "data": {
      "text/plain": [
       "<AxesSubplot:>"
      ]
     },
     "execution_count": 149,
     "metadata": {},
     "output_type": "execute_result"
    },
    {
     "data": {
      "image/png": "[encoded data removed]",
      "text/plain": [
       "<Figure size 432x288 with 1 Axes>"
      ]
     },
     "metadata": {
      "needs_background": "light"
     },
     "output_type": "display_data"
    }
   ],
   "source": [
    "comida['Unidades'].value_counts().sort_index().plot.area()"
   ]
  },
  {
   "cell_type": "markdown",
   "metadata": {},
   "source": [
    "### Histogramas:"
   ]
  },
  {
   "cell_type": "markdown",
   "metadata": {},
   "source": [
    "- Podemos observar que dado es un ranking, la distribución de las posiciones es equitativa a lo largo del histograma."
   ]
  },
  {
   "cell_type": "code",
   "execution_count": 150,
   "metadata": {},
   "outputs": [
    {
     "data": {
      "text/plain": [
       "<AxesSubplot:ylabel='Frequency'>"
      ]
     },
     "execution_count": 150,
     "metadata": {},
     "output_type": "execute_result"
    },
    {
     "data": {
      "image/png": "[encoded data removed]",
      "text/plain": [
       "<Figure size 432x288 with 1 Axes>"
      ]
     },
     "metadata": {
      "needs_background": "light"
     },
     "output_type": "display_data"
    }
   ],
   "source": [
    "comida['Rango'].plot.hist()"
   ]
  },
  {
   "cell_type": "markdown",
   "metadata": {},
   "source": [
    "### Scatter plot:"
   ]
  },
  {
   "cell_type": "markdown",
   "metadata": {},
   "source": [
    "- En esta gráfica de dispersión, podemos observar que conforme tenemos más unidades, las ventas pueden ir subiendo."
   ]
  },
  {
   "cell_type": "code",
   "execution_count": 151,
   "metadata": {},
   "outputs": [
    {
     "data": {
      "text/plain": [
       "<AxesSubplot:xlabel='Unidades', ylabel='Ventas'>"
      ]
     },
     "execution_count": 151,
     "metadata": {},
     "output_type": "execute_result"
    },
    {
     "data": {
      "image/png": "[encoded data removed]",
      "text/plain": [
       "<Figure size 432x288 with 1 Axes>"
      ]
     },
     "metadata": {
      "needs_background": "light"
     },
     "output_type": "display_data"
    }
   ],
   "source": [
    "comida.plot.scatter(x='Unidades', y='Ventas')"
   ]
  },
  {
   "cell_type": "markdown",
   "metadata": {},
   "source": [
    "- Hexplot"
   ]
  },
  {
   "cell_type": "code",
   "execution_count": 152,
   "metadata": {},
   "outputs": [
    {
     "data": {
      "text/plain": [
       "<AxesSubplot:xlabel='Unidades', ylabel='Ventas'>"
      ]
     },
     "execution_count": 152,
     "metadata": {},
     "output_type": "execute_result"
    },
    {
     "data": {
      "image/png": "[encoded data removed]",
      "text/plain": [
       "<Figure size 432x288 with 2 Axes>"
      ]
     },
     "metadata": {
      "needs_background": "light"
     },
     "output_type": "display_data"
    }
   ],
   "source": [
    "comida.plot.hexbin(x='Unidades', y='Ventas')"
   ]
  },
  {
   "cell_type": "markdown",
   "metadata": {},
   "source": [
    "### Stacked plots:"
   ]
  },
  {
   "cell_type": "code",
   "execution_count": 153,
   "metadata": {},
   "outputs": [
    {
     "data": {
      "text/plain": [
       "<AxesSubplot:>"
      ]
     },
     "execution_count": 153,
     "metadata": {},
     "output_type": "execute_result"
    },
    {
     "data": {
      "image/png": "[encoded data removed]",
      "text/plain": [
       "<Figure size 432x288 with 1 Axes>"
      ]
     },
     "metadata": {
      "needs_background": "light"
     },
     "output_type": "display_data"
    }
   ],
   "source": [
    "comida[comida['Volumen_de_Unidades']<1000].plot.bar(stacked=True)"
   ]
  },
  {
   "cell_type": "code",
   "execution_count": 154,
   "metadata": {},
   "outputs": [
    {
     "data": {
      "text/plain": [
       "<AxesSubplot:>"
      ]
     },
     "execution_count": 154,
     "metadata": {},
     "output_type": "execute_result"
    },
    {
     "data": {
      "image/png": "[encoded data removed]",
      "text/plain": [
       "<Figure size 432x288 with 1 Axes>"
      ]
     },
     "metadata": {
      "needs_background": "light"
     },
     "output_type": "display_data"
    }
   ],
   "source": [
    "comida[comida['Volumen_de_Unidades']<1000].plot.area(stacked=True)"
   ]
  },
  {
   "cell_type": "code",
   "execution_count": 155,
   "metadata": {},
   "outputs": [
    {
     "data": {
      "text/plain": [
       "<AxesSubplot:>"
      ]
     },
     "execution_count": 155,
     "metadata": {},
     "output_type": "execute_result"
    },
    {
     "data": {
      "image/png": "[encoded data removed]",
      "text/plain": [
       "<Figure size 432x288 with 1 Axes>"
      ]
     },
     "metadata": {
      "needs_background": "light"
     },
     "output_type": "display_data"
    }
   ],
   "source": [
    "comida[comida['Volumen_de_Unidades']<1000].plot.line(stacked=True)"
   ]
  },
  {
   "cell_type": "markdown",
   "metadata": {},
   "source": [
    "### Box plots:"
   ]
  },
  {
   "cell_type": "markdown",
   "metadata": {},
   "source": [
    "- Podemos ver la distribución del ranking si el restaurante es una cadena o no."
   ]
  },
  {
   "cell_type": "code",
   "execution_count": 156,
   "metadata": {},
   "outputs": [
    {
     "data": {
      "text/plain": [
       "<AxesSubplot:xlabel='Cadena', ylabel='Rango'>"
      ]
     },
     "execution_count": 156,
     "metadata": {},
     "output_type": "execute_result"
    },
    {
     "data": {
      "image/png": "[encoded data removed]",
      "text/plain": [
       "<Figure size 432x288 with 1 Axes>"
      ]
     },
     "metadata": {
      "needs_background": "light"
     },
     "output_type": "display_data"
    }
   ],
   "source": [
    "sns.boxplot(x='Cadena',y='Rango',data=comida)"
   ]
  },
  {
   "cell_type": "markdown",
   "metadata": {},
   "source": [
    "- Violin"
   ]
  },
  {
   "cell_type": "code",
   "execution_count": 157,
   "metadata": {
    "scrolled": true
   },
   "outputs": [
    {
     "data": {
      "text/plain": [
       "<AxesSubplot:xlabel='Cadena', ylabel='Rango'>"
      ]
     },
     "execution_count": 157,
     "metadata": {},
     "output_type": "execute_result"
    },
    {
     "data": {
      "image/png": "[encoded data removed]",
      "text/plain": [
       "<Figure size 432x288 with 1 Axes>"
      ]
     },
     "metadata": {
      "needs_background": "light"
     },
     "output_type": "display_data"
    }
   ],
   "source": [
    "sns.violinplot(x='Cadena',y='Rango',data=comida)"
   ]
  }
 ],
 "metadata": {
  "kernelspec": {
   "display_name": "Python 3",
   "language": "python",
   "name": "python3"
  },
  "language_info": {
   "codemirror_mode": {
    "name": "ipython",
    "version": 3
   },
   "file_extension": ".py",
   "mimetype": "text/x-python",
   "name": "python",
   "nbconvert_exporter": "python",
   "pygments_lexer": "ipython3",
   "version": "3.8.5"
  }
 },
 "nbformat": 4,
 "nbformat_minor": 4
}
